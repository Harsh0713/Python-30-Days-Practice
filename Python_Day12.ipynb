{
 "cells": [
  {
   "cell_type": "markdown",
   "id": "305ac19b",
   "metadata": {},
   "source": [
    "# Object Orientation Programming \n",
    " "
   ]
  },
  {
   "cell_type": "markdown",
   "id": "319fc264",
   "metadata": {},
   "source": [
    "# INHERITANCE\n",
    "A child class inheriting the parent class features"
   ]
  },
  {
   "cell_type": "code",
   "execution_count": 1,
   "id": "0d0bb1a6",
   "metadata": {},
   "outputs": [],
   "source": [
    "#Parent Class\n",
    "\n",
    "class Employee(object):\n",
    "    def __init__(self,Name,Id,Position):\n",
    "        self.name = Name\n",
    "        self.id = Id\n",
    "        self.position = Position \n",
    "        \n",
    "    def details(self):\n",
    "        print(f\"Name - {self.name}\")\n",
    "        print(f\"Id - {self.id}\")\n",
    "        print(f\"Position - {self.position}\")\n",
    "        \n",
    "        \n",
    "#Child class\n",
    "\n",
    "class KPMG(Employee):\n",
    "    def __init__(self,Name,Id,Position,Salary):\n",
    "        self.salary = Salary\n",
    "        \n",
    "        Employee.__init__(self,Name,Id,Position)\n",
    "        \n",
    "    def details(self):\n",
    "        print(f\"Name - {self.name}\")\n",
    "        print(f\"Id - {self.id}\")\n",
    "        print(f\"Position - {self.position}\")\n",
    "        print(f\"Salary - {self.salary}\")\n",
    "        \n",
    "        \n",
    "\n"
   ]
  },
  {
   "cell_type": "code",
   "execution_count": 2,
   "id": "0c9532dd",
   "metadata": {},
   "outputs": [],
   "source": [
    "kpmg = KPMG('Nikhil','35','Manager','50,000')"
   ]
  },
  {
   "cell_type": "code",
   "execution_count": 3,
   "id": "f99dd57e",
   "metadata": {},
   "outputs": [
    {
     "name": "stdout",
     "output_type": "stream",
     "text": [
      "Name - Nikhil\n",
      "Id - 35\n",
      "Position - Manager\n",
      "Salary - 50,000\n"
     ]
    }
   ],
   "source": [
    "kpmg.details()"
   ]
  },
  {
   "cell_type": "markdown",
   "id": "c790c22b",
   "metadata": {},
   "source": [
    "# Polymorphism\n",
    "A function name can have different forms or outputs "
   ]
  },
  {
   "cell_type": "code",
   "execution_count": 6,
   "id": "113d2e4c",
   "metadata": {},
   "outputs": [],
   "source": [
    "#Polymorphism\n",
    "\n",
    "class bird(object):\n",
    "    def intro(self):\n",
    "        print(\"We are birds\")\n",
    "        \n",
    "    def flight(self):\n",
    "        print(\"Most of the birds can fly\")\n",
    "        \n",
    "class sparrow(bird):\n",
    "        def flight(self):\n",
    "            print(\"Sparrow can fly\")\n",
    "            \n",
    "class cheel(bird):\n",
    "    def flight(self):\n",
    "        print(\"Cheel fly higher\")\n",
    "        \n",
    "class ostrich(bird):\n",
    "    def flight(self):\n",
    "        print(\"Ostrich can't fly\")\n",
    "        \n"
   ]
  },
  {
   "cell_type": "code",
   "execution_count": 7,
   "id": "9601a921",
   "metadata": {},
   "outputs": [],
   "source": [
    "ost_obj = ostrich()\n",
    "spar_obj = sparrow()\n",
    "cheel_obj = cheel()"
   ]
  },
  {
   "cell_type": "code",
   "execution_count": 9,
   "id": "65589d8a",
   "metadata": {},
   "outputs": [
    {
     "name": "stdout",
     "output_type": "stream",
     "text": [
      "We are birds\n",
      "We are birds\n",
      "We are birds\n"
     ]
    }
   ],
   "source": [
    "ost_obj.intro()\n",
    "spar_obj.intro()\n",
    "cheel_obj.intro()"
   ]
  },
  {
   "cell_type": "code",
   "execution_count": 10,
   "id": "35b9a8a5",
   "metadata": {},
   "outputs": [
    {
     "name": "stdout",
     "output_type": "stream",
     "text": [
      "Ostrich can't fly\n",
      "Sparrow can fly\n",
      "Cheel fly higher\n"
     ]
    }
   ],
   "source": [
    "ost_obj.flight()\n",
    "spar_obj.flight()\n",
    "cheel_obj.flight()"
   ]
  },
  {
   "cell_type": "code",
   "execution_count": 12,
   "id": "bb888b13",
   "metadata": {},
   "outputs": [],
   "source": [
    "class Parent(object):\n",
    "    def __init__(self):\n",
    "        self.a = \"Username\"\n",
    "        self.b = \"Password\"\n",
    "        \n",
    "        \n",
    "class child(Parent):             #Calling the base class that is Parent in child\n",
    "    def __init__(self):\n",
    "        Parent.__init__(self)\n",
    "        print(self.b)"
   ]
  },
  {
   "cell_type": "code",
   "execution_count": 18,
   "id": "0ba6a269",
   "metadata": {},
   "outputs": [
    {
     "name": "stdout",
     "output_type": "stream",
     "text": [
      "Password\n"
     ]
    }
   ],
   "source": [
    "obj = child()"
   ]
  },
  {
   "cell_type": "code",
   "execution_count": 19,
   "id": "bdd7f0f7",
   "metadata": {},
   "outputs": [],
   "source": [
    "obj.b = 'xyz'"
   ]
  },
  {
   "cell_type": "code",
   "execution_count": 20,
   "id": "80db5faa",
   "metadata": {},
   "outputs": [
    {
     "data": {
      "text/plain": [
       "'xyz'"
      ]
     },
     "execution_count": 20,
     "metadata": {},
     "output_type": "execute_result"
    }
   ],
   "source": [
    "obj.b"
   ]
  },
  {
   "cell_type": "code",
   "execution_count": null,
   "id": "ce8e04ba",
   "metadata": {},
   "outputs": [],
   "source": []
  }
 ],
 "metadata": {
  "kernelspec": {
   "display_name": "Python 3 (ipykernel)",
   "language": "python",
   "name": "python3"
  },
  "language_info": {
   "codemirror_mode": {
    "name": "ipython",
    "version": 3
   },
   "file_extension": ".py",
   "mimetype": "text/x-python",
   "name": "python",
   "nbconvert_exporter": "python",
   "pygments_lexer": "ipython3",
   "version": "3.9.13"
  }
 },
 "nbformat": 4,
 "nbformat_minor": 5
}
