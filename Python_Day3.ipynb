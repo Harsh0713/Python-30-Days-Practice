{
 "cells": [
  {
   "cell_type": "markdown",
   "id": "da1ec72f",
   "metadata": {},
   "source": [
    "# CONTROL STATEMENTS\n",
    "\n",
    "     1.Decision Control Statement\n",
    "     \n",
    "     2.Control Flow Statement"
   ]
  },
  {
   "cell_type": "markdown",
   "id": "4f3968a2",
   "metadata": {},
   "source": [
    "# Decision Control Statements \n",
    "  1. IF/ ELSE\n",
    "  2. ELIS"
   ]
  },
  {
   "cell_type": "markdown",
   "id": "e848b808",
   "metadata": {},
   "source": [
    "# If statement"
   ]
  },
  {
   "cell_type": "code",
   "execution_count": 20,
   "id": "95db9788",
   "metadata": {},
   "outputs": [
    {
     "name": "stdout",
     "output_type": "stream",
     "text": [
      "5\n"
     ]
    }
   ],
   "source": [
    "var_1 = 5\n",
    "if var_1 >= 5:\n",
    "    print(var_1)"
   ]
  },
  {
   "cell_type": "markdown",
   "id": "2235533f",
   "metadata": {},
   "source": [
    "# If Else Statement"
   ]
  },
  {
   "cell_type": "code",
   "execution_count": 10,
   "id": "062f1aef",
   "metadata": {},
   "outputs": [
    {
     "name": "stdout",
     "output_type": "stream",
     "text": [
      "10\n"
     ]
    }
   ],
   "source": [
    "var_1 = 4\n",
    "if var_1 > 5:\n",
    "    print(var_1)\n",
    "else:\n",
    "    print(\"Number is not big enough\")\n",
    " "
   ]
  },
  {
   "cell_type": "markdown",
   "id": "94b853eb",
   "metadata": {},
   "source": [
    "# A company distributes salary according to the post. Now if the salary is below 10,000 it is a peon, if it is between 10,000 - 20,000 it is a clerk, if it is above 20,000 it is a Manager. And above 20,000 it is Sr Manager\n"
   ]
  },
  {
   "cell_type": "code",
   "execution_count": 25,
   "id": "fec188af",
   "metadata": {},
   "outputs": [
    {
     "name": "stdout",
     "output_type": "stream",
     "text": [
      "Enter the value27000\n",
      "I am a manager 27000\n"
     ]
    }
   ],
   "source": [
    "my_salary = int(input(\"Enter the value\")) #input function takes value as a string by default\n",
    "if my_salary >= 30000:\n",
    "    print(\"I am a Sr manager\", my_salary) #For printing 2 values in the same statements, we diff them by comma\n",
    "elif my_salary < 30000 and my_salary >= 20000:\n",
    "    print(\"I am a manager\", my_salary)\n",
    "elif my_salary < 20000 and my_salary >= 10000:\n",
    "    print(\"I am a clerk\", my_salary)\n",
    "else:\n",
    "    print(\"I am a peon\")"
   ]
  },
  {
   "cell_type": "code",
   "execution_count": 24,
   "id": "2dd759b3",
   "metadata": {},
   "outputs": [
    {
     "name": "stdout",
     "output_type": "stream",
     "text": [
      "Enter the Salary28000\n",
      "I am a Clerk 28000\n"
     ]
    }
   ],
   "source": [
    "# Nested method \n",
    "\n",
    "my_salary = int(input(\"Enter the Salary\"))\n",
    "\n",
    "if my_salary > 10000:\n",
    "    if my_salary < 30000:\n",
    "        print(\"I am a Clerk\", my_salary)\n",
    "    else:\n",
    "        print(\"I am a Manager\", my_salary)\n",
    "else:\n",
    "    print(\"I am a peon\", my_salary)"
   ]
  },
  {
   "cell_type": "markdown",
   "id": "f6e17410",
   "metadata": {},
   "source": [
    "# Control Flow Statement\n",
    "\n",
    " 1. For\n",
    " \n",
    " 2. While"
   ]
  },
  {
   "cell_type": "code",
   "execution_count": 27,
   "id": "294e4754",
   "metadata": {},
   "outputs": [
    {
     "data": {
      "text/plain": [
       "8"
      ]
     },
     "execution_count": 27,
     "metadata": {},
     "output_type": "execute_result"
    }
   ],
   "source": [
    "# 3 Arguments = start, end, difference\n",
    "# start = if not provided, by default it is assigned as 0\n",
    "# end = we have to provide\n",
    "# diff = if not provided, by default it is 1\n",
    "# range has the value always 1 iteration less than the end value\n",
    "range_ = range(10)\n",
    "range_[8]"
   ]
  },
  {
   "cell_type": "code",
   "execution_count": 30,
   "id": "9fff9346",
   "metadata": {},
   "outputs": [
    {
     "name": "stdout",
     "output_type": "stream",
     "text": [
      "Work done for 0\n",
      "Work done for 1\n",
      "Work done for 2\n",
      "Work done for 3\n",
      "Work done for 4\n",
      "Work done for 5\n",
      "Work done for 6\n",
      "Work done for 7\n",
      "Work done for 8\n",
      "Work done for 9\n"
     ]
    }
   ],
   "source": [
    "# for loop \n",
    "# 3 Input = start, end, iteration difference\n",
    "\n",
    "for val in range(10):\n",
    "    print(\"Work done for\", val)\n",
    "    "
   ]
  },
  {
   "cell_type": "code",
   "execution_count": 38,
   "id": "36fc550f",
   "metadata": {},
   "outputs": [
    {
     "name": "stdout",
     "output_type": "stream",
     "text": [
      "Provide the input 20\n",
      "0\n",
      "2\n",
      "4\n",
      "6\n",
      "8\n",
      "10\n",
      "12\n",
      "14\n",
      "16\n",
      "18\n"
     ]
    }
   ],
   "source": [
    "#Print all the even numbers less than the given input\n",
    "\n",
    "number = int(input(\"Provide the input \"))\n",
    "\n",
    "for i in range(0,number,2):\n",
    "    print(i)"
   ]
  },
  {
   "cell_type": "code",
   "execution_count": 39,
   "id": "8830fb70",
   "metadata": {},
   "outputs": [
    {
     "name": "stdout",
     "output_type": "stream",
     "text": [
      "4\n",
      "25\n",
      "49\n",
      "16\n",
      "4\n",
      "1\n"
     ]
    }
   ],
   "source": [
    "my_list = [2,5,7,4,2,1]\n",
    "\n",
    "for val in my_list:\n",
    "    print(val **2)\n",
    "    "
   ]
  },
  {
   "cell_type": "code",
   "execution_count": 41,
   "id": "c8238d51",
   "metadata": {},
   "outputs": [
    {
     "data": {
      "text/plain": [
       "[4, 25, 49, 16, 4, 1]"
      ]
     },
     "execution_count": 41,
     "metadata": {},
     "output_type": "execute_result"
    }
   ],
   "source": [
    "#In a given list,convert the list into square of its elements\n",
    "\n",
    "my_list1 = [2,5,7,4,2,1]\n",
    "new_list = []\n",
    "for val in my_list1:\n",
    "    new_list.append(val**2)\n",
    "    \n",
    "new_list"
   ]
  },
  {
   "cell_type": "code",
   "execution_count": 49,
   "id": "54b30f8b",
   "metadata": {},
   "outputs": [
    {
     "data": {
      "text/plain": [
       "[4, 25, 49, 16, 4, 1]"
      ]
     },
     "execution_count": 49,
     "metadata": {},
     "output_type": "execute_result"
    }
   ],
   "source": [
    "#Indexing concept\n",
    "\n",
    "my_list1 = [2,5,7,4,2,1]\n",
    "\n",
    "for i in range(len(my_list1)):\n",
    "    my_list1[i] = my_list1[i]**2\n",
    "my_list1   \n"
   ]
  },
  {
   "cell_type": "code",
   "execution_count": 50,
   "id": "a31af63b",
   "metadata": {},
   "outputs": [
    {
     "data": {
      "text/plain": [
       "[4, 25, 49, 16, 4, 1]"
      ]
     },
     "execution_count": 50,
     "metadata": {},
     "output_type": "execute_result"
    }
   ],
   "source": [
    "my_list1 = [2,5,7,4,2,1]\n",
    "new_list\n",
    "for i in my_list:\n",
    "     new_list.append(i**2)\n",
    "   \n",
    "\n",
    "\n",
    "for i in range(len(my_list1)):\n",
    "    my_list1[i] = my_list1[i]**2\n",
    "my_list1 "
   ]
  },
  {
   "cell_type": "code",
   "execution_count": 53,
   "id": "7caade13",
   "metadata": {},
   "outputs": [
    {
     "data": {
      "text/plain": [
       "[1, 4, 9, 16, 25, 36, 49, 64]"
      ]
     },
     "execution_count": 53,
     "metadata": {},
     "output_type": "execute_result"
    }
   ],
   "source": [
    "# Nested for loop (loop inside loop)\n",
    "\n",
    "my_2d_list = [[1,2],[3,4],[5,6],[7,8]]\n",
    "lis = []\n",
    "for i in my_2d_list:\n",
    "    for j in i:\n",
    "        lis.append(j**2)\n",
    "    my_2d_list\n",
    "        \n",
    "lis"
   ]
  },
  {
   "cell_type": "code",
   "execution_count": null,
   "id": "bc087458",
   "metadata": {},
   "outputs": [],
   "source": [
    " "
   ]
  }
 ],
 "metadata": {
  "kernelspec": {
   "display_name": "Python 3 (ipykernel)",
   "language": "python",
   "name": "python3"
  },
  "language_info": {
   "codemirror_mode": {
    "name": "ipython",
    "version": 3
   },
   "file_extension": ".py",
   "mimetype": "text/x-python",
   "name": "python",
   "nbconvert_exporter": "python",
   "pygments_lexer": "ipython3",
   "version": "3.9.13"
  }
 },
 "nbformat": 4,
 "nbformat_minor": 5
}
