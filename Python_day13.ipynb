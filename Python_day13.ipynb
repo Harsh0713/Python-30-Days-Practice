{
 "cells": [
  {
   "cell_type": "markdown",
   "id": "31d48e16",
   "metadata": {},
   "source": [
    "# REGULAR EXPRESSION"
   ]
  },
  {
   "cell_type": "code",
   "execution_count": 1,
   "id": "e3d9b709",
   "metadata": {},
   "outputs": [],
   "source": [
    "pattern = \"Axar\"\n",
    "content = \"Asalanka to Axar Patel Pxar Nxar Zxar, OUT  Asalanka is off, he has a massive wicket. Gets Axar nicking behind. What a timely strike. Tosses it up again, and lands it on a harmless line - well outside off - on a length. It spins away yet again. Axar feels for it and feather an edge. Do Sri Lanka have a massive opening here?\""
   ]
  },
  {
   "cell_type": "code",
   "execution_count": 3,
   "id": "a09f9a99",
   "metadata": {},
   "outputs": [],
   "source": [
    "import re"
   ]
  },
  {
   "cell_type": "code",
   "execution_count": 66,
   "id": "48cf93c7",
   "metadata": {},
   "outputs": [],
   "source": [
    "pattern = r\"[0-9,A-z]xar\"\n",
    "content = \"Asalanka to 1xar Patel, OUT Asalanka is off, he has a massive wicket. Gets axar nicking behind. What a timely strike. Tosses it up again, and lands it on a harmless line - well outside off - on a length. It spins away yet again. Axar feels for it and feather an edge. Do Sri Lanka have a massive opening here?\""
   ]
  },
  {
   "cell_type": "code",
   "execution_count": 67,
   "id": "31b7cf28",
   "metadata": {},
   "outputs": [
    {
     "name": "stdout",
     "output_type": "stream",
     "text": [
      "['1xar', 'axar', 'Axar']\n"
     ]
    }
   ],
   "source": [
    "match = re.findall(pattern, content)\n",
    "print(match)"
   ]
  },
  {
   "cell_type": "code",
   "execution_count": 57,
   "id": "a0000f43",
   "metadata": {},
   "outputs": [
    {
     "name": "stdout",
     "output_type": "stream",
     "text": [
      "python\n",
      "sython\n",
      "NYthon\n",
      "rython\n"
     ]
    }
   ],
   "source": [
    "matches = re.finditer(pattern, content)\n",
    "\n",
    "for match in matches:\n",
    "    print(content[match.span()[0] : match.span()[1]])"
   ]
  },
  {
   "cell_type": "code",
   "execution_count": null,
   "id": "fa96a5bf",
   "metadata": {},
   "outputs": [],
   "source": []
  }
 ],
 "metadata": {
  "kernelspec": {
   "display_name": "Python 3 (ipykernel)",
   "language": "python",
   "name": "python3"
  },
  "language_info": {
   "codemirror_mode": {
    "name": "ipython",
    "version": 3
   },
   "file_extension": ".py",
   "mimetype": "text/x-python",
   "name": "python",
   "nbconvert_exporter": "python",
   "pygments_lexer": "ipython3",
   "version": "3.9.13"
  }
 },
 "nbformat": 4,
 "nbformat_minor": 5
}
