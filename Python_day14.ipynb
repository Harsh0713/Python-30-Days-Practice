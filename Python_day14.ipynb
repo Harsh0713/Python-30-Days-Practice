{
 "cells": [
  {
   "cell_type": "markdown",
   "id": "bc0ae691",
   "metadata": {},
   "source": [
    "# Lambda\n",
    "1. Anonymous function\n",
    "2. It takes any number of arguments with only 1 expression\n",
    "3. Lambda arguments : expression"
   ]
  },
  {
   "cell_type": "code",
   "execution_count": 11,
   "id": "865a3fde",
   "metadata": {},
   "outputs": [
    {
     "name": "stdout",
     "output_type": "stream",
     "text": [
      "10\n"
     ]
    }
   ],
   "source": [
    "number = lambda a : a # a is an argument(input)\n",
    "print(number(10))"
   ]
  },
  {
   "cell_type": "code",
   "execution_count": 12,
   "id": "e398b986",
   "metadata": {},
   "outputs": [],
   "source": [
    "condition = lambda var :print(\"Odd\") if var%2!=0 else print(\"Even\")"
   ]
  },
  {
   "cell_type": "code",
   "execution_count": 10,
   "id": "62ba3f11",
   "metadata": {},
   "outputs": [
    {
     "name": "stdout",
     "output_type": "stream",
     "text": [
      "Even\n"
     ]
    }
   ],
   "source": [
    "condition(10)"
   ]
  },
  {
   "cell_type": "code",
   "execution_count": 13,
   "id": "3183e963",
   "metadata": {},
   "outputs": [],
   "source": [
    "multiple = lambda a,b : a * b"
   ]
  },
  {
   "cell_type": "code",
   "execution_count": 14,
   "id": "32efd343",
   "metadata": {},
   "outputs": [
    {
     "data": {
      "text/plain": [
       "6"
      ]
     },
     "execution_count": 14,
     "metadata": {},
     "output_type": "execute_result"
    }
   ],
   "source": [
    "multiple(2,3)"
   ]
  },
  {
   "cell_type": "markdown",
   "id": "efa5fef6",
   "metadata": {},
   "source": [
    "# Map\n",
    "1. It maps any imput with a function to return the value"
   ]
  },
  {
   "cell_type": "code",
   "execution_count": 31,
   "id": "d4a1b251",
   "metadata": {},
   "outputs": [],
   "source": [
    "def factorial(num):\n",
    "    if num==1:\n",
    "        return 1\n",
    "    \n",
    "    return num * factorial(num-1)"
   ]
  },
  {
   "cell_type": "code",
   "execution_count": 33,
   "id": "d2c04d3a",
   "metadata": {},
   "outputs": [
    {
     "name": "stdout",
     "output_type": "stream",
     "text": [
      "[120, 720, 6, 2]\n"
     ]
    }
   ],
   "source": [
    "num_list = [5,6,3,2]\n",
    "num_list_factorial =  map(factorial,num_list)\n",
    "print(list(num_list_factorial)) #We have to convert the map type to list to get the values"
   ]
  },
  {
   "cell_type": "markdown",
   "id": "3b5466b8",
   "metadata": {},
   "source": [
    "# Filter\n",
    "1. It also works as an iterator for a function return a boolean value to test the truth"
   ]
  },
  {
   "cell_type": "code",
   "execution_count": 38,
   "id": "03c74ecc",
   "metadata": {},
   "outputs": [],
   "source": [
    "def is_even(num):\n",
    "    return num%2==0"
   ]
  },
  {
   "cell_type": "code",
   "execution_count": 39,
   "id": "2bcc9ff6",
   "metadata": {},
   "outputs": [
    {
     "data": {
      "text/plain": [
       "[4, 2, 8, 6, 4]"
      ]
     },
     "execution_count": 39,
     "metadata": {},
     "output_type": "execute_result"
    }
   ],
   "source": [
    "my_list = [4,5,2,1,9,8,6,4]\n",
    "filtered_list = filter(is_even,my_list)\n",
    "list(filtered_list)"
   ]
  },
  {
   "cell_type": "markdown",
   "id": "c2c01597",
   "metadata": {},
   "source": [
    "# Decorators\n",
    "1. It can be used to modify the behaviour of a class."
   ]
  },
  {
   "cell_type": "code",
   "execution_count": 51,
   "id": "09adffdb",
   "metadata": {},
   "outputs": [],
   "source": [
    "def my_decorator(function):\n",
    "    def modify():\n",
    "        print(\"Hello this is my decorator\")\n",
    "        print(\"Decorator called\")\n",
    "        function()\n",
    "        \n",
    "    return modify\n"
   ]
  },
  {
   "cell_type": "code",
   "execution_count": 52,
   "id": "b1e6fa88",
   "metadata": {},
   "outputs": [],
   "source": [
    "def hello_world():\n",
    "    print(\"Hello world\")"
   ]
  },
  {
   "cell_type": "code",
   "execution_count": 53,
   "id": "bcf8e09d",
   "metadata": {},
   "outputs": [],
   "source": [
    "decorated_function = my_decorator(hello_world)"
   ]
  },
  {
   "cell_type": "code",
   "execution_count": 54,
   "id": "a7e18bf7",
   "metadata": {},
   "outputs": [
    {
     "name": "stdout",
     "output_type": "stream",
     "text": [
      "Hello this is my decorator\n",
      "Decorator called\n"
     ]
    }
   ],
   "source": [
    "decorated_function()"
   ]
  },
  {
   "cell_type": "markdown",
   "id": "92b24099",
   "metadata": {},
   "source": [
    "# Reduce function"
   ]
  },
  {
   "cell_type": "code",
   "execution_count": 59,
   "id": "bb53c527",
   "metadata": {},
   "outputs": [],
   "source": [
    "lis = [6,7,6,5,3]\n",
    "\n",
    "import functools as ft"
   ]
  },
  {
   "cell_type": "code",
   "execution_count": 63,
   "id": "7f94c2c7",
   "metadata": {},
   "outputs": [
    {
     "data": {
      "text/plain": [
       "28"
      ]
     },
     "execution_count": 63,
     "metadata": {},
     "output_type": "execute_result"
    }
   ],
   "source": [
    "ft.reduce(lambda a,b : a+b,lis)"
   ]
  },
  {
   "cell_type": "code",
   "execution_count": null,
   "id": "e96c3ebc",
   "metadata": {},
   "outputs": [],
   "source": []
  }
 ],
 "metadata": {
  "kernelspec": {
   "display_name": "Python 3 (ipykernel)",
   "language": "python",
   "name": "python3"
  },
  "language_info": {
   "codemirror_mode": {
    "name": "ipython",
    "version": 3
   },
   "file_extension": ".py",
   "mimetype": "text/x-python",
   "name": "python",
   "nbconvert_exporter": "python",
   "pygments_lexer": "ipython3",
   "version": "3.9.13"
  }
 },
 "nbformat": 4,
 "nbformat_minor": 5
}
