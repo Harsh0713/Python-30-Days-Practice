{
 "cells": [
  {
   "cell_type": "markdown",
   "id": "ebf6b1d1",
   "metadata": {},
   "source": [
    "# Datetime Module"
   ]
  },
  {
   "cell_type": "code",
   "execution_count": 1,
   "id": "54a999e3",
   "metadata": {},
   "outputs": [],
   "source": [
    "import datetime"
   ]
  },
  {
   "cell_type": "code",
   "execution_count": 12,
   "id": "0d4a5e46",
   "metadata": {},
   "outputs": [],
   "source": [
    "#Date\n",
    "from datetime import date\n",
    "today_date = date(2024,8,6)"
   ]
  },
  {
   "cell_type": "code",
   "execution_count": 13,
   "id": "170fb1a2",
   "metadata": {},
   "outputs": [
    {
     "data": {
      "text/plain": [
       "True"
      ]
     },
     "execution_count": 13,
     "metadata": {},
     "output_type": "execute_result"
    }
   ],
   "source": [
    "today_date>date(2024,6,6)"
   ]
  },
  {
   "cell_type": "code",
   "execution_count": 14,
   "id": "9edb281c",
   "metadata": {},
   "outputs": [],
   "source": [
    "today_date = date.today()"
   ]
  },
  {
   "cell_type": "code",
   "execution_count": 15,
   "id": "7d520ae1",
   "metadata": {},
   "outputs": [],
   "source": [
    "current_year = date.today().year"
   ]
  },
  {
   "cell_type": "code",
   "execution_count": 16,
   "id": "1c0043ca",
   "metadata": {},
   "outputs": [
    {
     "data": {
      "text/plain": [
       "2024"
      ]
     },
     "execution_count": 16,
     "metadata": {},
     "output_type": "execute_result"
    }
   ],
   "source": [
    "current_year"
   ]
  },
  {
   "cell_type": "code",
   "execution_count": 27,
   "id": "8c138b1b",
   "metadata": {},
   "outputs": [],
   "source": [
    "timestamp_date = date.fromtimestamp(1768732689)"
   ]
  },
  {
   "cell_type": "code",
   "execution_count": 34,
   "id": "f6b21d36",
   "metadata": {},
   "outputs": [
    {
     "data": {
      "text/plain": [
       "'2026-01-18'"
      ]
     },
     "execution_count": 34,
     "metadata": {},
     "output_type": "execute_result"
    }
   ],
   "source": [
    "str(timestamp_date)"
   ]
  },
  {
   "cell_type": "code",
   "execution_count": 36,
   "id": "6c8e3981",
   "metadata": {},
   "outputs": [],
   "source": [
    "today_date = date.fromisoformat('2026-08-08')"
   ]
  },
  {
   "cell_type": "code",
   "execution_count": 56,
   "id": "8d3f2576",
   "metadata": {},
   "outputs": [
    {
     "data": {
      "text/plain": [
       "'2026-08-08'"
      ]
     },
     "execution_count": 56,
     "metadata": {},
     "output_type": "execute_result"
    }
   ],
   "source": [
    "today_date = date.isoformat(today_date)\n",
    "today_date"
   ]
  },
  {
   "cell_type": "code",
   "execution_count": 38,
   "id": "3f726967",
   "metadata": {},
   "outputs": [],
   "source": [
    "#time\n",
    "from datetime import time"
   ]
  },
  {
   "cell_type": "code",
   "execution_count": 44,
   "id": "0db970d3",
   "metadata": {},
   "outputs": [],
   "source": [
    "current_time = time(13,24,45)"
   ]
  },
  {
   "cell_type": "code",
   "execution_count": 50,
   "id": "29b66749",
   "metadata": {},
   "outputs": [
    {
     "data": {
      "text/plain": [
       "13"
      ]
     },
     "execution_count": 50,
     "metadata": {},
     "output_type": "execute_result"
    }
   ],
   "source": [
    "hours = current_time.hour\n",
    "hours"
   ]
  },
  {
   "cell_type": "code",
   "execution_count": 53,
   "id": "9141b791",
   "metadata": {},
   "outputs": [
    {
     "data": {
      "text/plain": [
       "24"
      ]
     },
     "execution_count": 53,
     "metadata": {},
     "output_type": "execute_result"
    }
   ],
   "source": [
    "minutes = current_time.minute\n",
    "minutes"
   ]
  },
  {
   "cell_type": "code",
   "execution_count": 55,
   "id": "1106a2c5",
   "metadata": {},
   "outputs": [
    {
     "data": {
      "text/plain": [
       "45"
      ]
     },
     "execution_count": 55,
     "metadata": {},
     "output_type": "execute_result"
    }
   ],
   "source": [
    "seconds = current_time.second\n",
    "seconds"
   ]
  },
  {
   "cell_type": "code",
   "execution_count": 57,
   "id": "49a34ddb",
   "metadata": {},
   "outputs": [
    {
     "data": {
      "text/plain": [
       "'13:24:45'"
      ]
     },
     "execution_count": 57,
     "metadata": {},
     "output_type": "execute_result"
    }
   ],
   "source": [
    "current_time = current_time.isoformat()\n",
    "current_time"
   ]
  },
  {
   "cell_type": "code",
   "execution_count": 58,
   "id": "4c86a300",
   "metadata": {},
   "outputs": [],
   "source": [
    "from datetime import datetime"
   ]
  },
  {
   "cell_type": "code",
   "execution_count": 59,
   "id": "075143f9",
   "metadata": {},
   "outputs": [],
   "source": [
    "current_time = datetime.now()"
   ]
  },
  {
   "cell_type": "code",
   "execution_count": 70,
   "id": "1f99d7af",
   "metadata": {},
   "outputs": [
    {
     "data": {
      "text/plain": [
       "16"
      ]
     },
     "execution_count": 70,
     "metadata": {},
     "output_type": "execute_result"
    }
   ],
   "source": [
    "current_time.hour"
   ]
  },
  {
   "cell_type": "code",
   "execution_count": 74,
   "id": "c2ba7da5",
   "metadata": {},
   "outputs": [
    {
     "data": {
      "text/plain": [
       "206171"
      ]
     },
     "execution_count": 74,
     "metadata": {},
     "output_type": "execute_result"
    }
   ],
   "source": [
    "current_time.microsecond"
   ]
  },
  {
   "cell_type": "code",
   "execution_count": 71,
   "id": "2491d9c8",
   "metadata": {},
   "outputs": [],
   "source": [
    "string_date = current_time.isoformat()"
   ]
  },
  {
   "cell_type": "code",
   "execution_count": 72,
   "id": "6fffeee4",
   "metadata": {},
   "outputs": [
    {
     "data": {
      "text/plain": [
       "'2024-08-06T16:16:50.206171'"
      ]
     },
     "execution_count": 72,
     "metadata": {},
     "output_type": "execute_result"
    }
   ],
   "source": [
    "string_date"
   ]
  },
  {
   "cell_type": "markdown",
   "id": "2197be53",
   "metadata": {},
   "source": [
    "# TIMEDELTA"
   ]
  },
  {
   "cell_type": "code",
   "execution_count": 78,
   "id": "699adcfd",
   "metadata": {},
   "outputs": [],
   "source": [
    "from datetime import timedelta"
   ]
  },
  {
   "cell_type": "code",
   "execution_count": 79,
   "id": "2c58a5d1",
   "metadata": {},
   "outputs": [],
   "source": [
    "current_time = datetime.now()"
   ]
  },
  {
   "cell_type": "code",
   "execution_count": 80,
   "id": "f2dc7e8e",
   "metadata": {},
   "outputs": [],
   "source": [
    "increased_time = current_time + timedelta(days=3)"
   ]
  },
  {
   "cell_type": "code",
   "execution_count": 81,
   "id": "d91c9216",
   "metadata": {},
   "outputs": [
    {
     "data": {
      "text/plain": [
       "'2024-08-09T16:23:37.145631'"
      ]
     },
     "execution_count": 81,
     "metadata": {},
     "output_type": "execute_result"
    }
   ],
   "source": [
    "increased_time.isoformat()"
   ]
  },
  {
   "cell_type": "code",
   "execution_count": 86,
   "id": "a202f9ad",
   "metadata": {},
   "outputs": [],
   "source": [
    "ist_conversion = current_time + timedelta(hours = 5, minutes = 30)"
   ]
  },
  {
   "cell_type": "code",
   "execution_count": 89,
   "id": "46bd9f6c",
   "metadata": {},
   "outputs": [
    {
     "data": {
      "text/plain": [
       "'5:30:00'"
      ]
     },
     "execution_count": 89,
     "metadata": {},
     "output_type": "execute_result"
    }
   ],
   "source": [
    "str(ist_conversion - current_time)"
   ]
  },
  {
   "cell_type": "code",
   "execution_count": 90,
   "id": "974a0c3b",
   "metadata": {},
   "outputs": [
    {
     "data": {
      "text/plain": [
       "datetime.datetime(2024, 8, 6, 16, 31, 41, 371031)"
      ]
     },
     "execution_count": 90,
     "metadata": {},
     "output_type": "execute_result"
    }
   ],
   "source": [
    "#strftime\n",
    "#Converts a datetime object into a formatted string\n",
    "now = datetime.now()\n",
    "now"
   ]
  },
  {
   "cell_type": "code",
   "execution_count": 123,
   "id": "40cc695a",
   "metadata": {},
   "outputs": [],
   "source": [
    "formatted_date = now.strftime(\"%m - %d - %Y - %H - %M - %S\")"
   ]
  },
  {
   "cell_type": "code",
   "execution_count": 124,
   "id": "30cdea39",
   "metadata": {},
   "outputs": [
    {
     "data": {
      "text/plain": [
       "'08 - 06 - 2024 - 16 - 31 - 41'"
      ]
     },
     "execution_count": 124,
     "metadata": {},
     "output_type": "execute_result"
    }
   ],
   "source": [
    "formatted_date"
   ]
  },
  {
   "cell_type": "code",
   "execution_count": 122,
   "id": "d3df3db1",
   "metadata": {},
   "outputs": [
    {
     "data": {
      "text/plain": [
       "datetime.datetime(1900, 8, 6, 16, 31, 41)"
      ]
     },
     "execution_count": 122,
     "metadata": {},
     "output_type": "execute_result"
    }
   ],
   "source": [
    "#strptime\n",
    "#Converts a string to a datetime object\n",
    "format_date = \"%m - %d - %H - %M - %S\"\n",
    "datetime.strptime(formatted_date,format_date)"
   ]
  },
  {
   "cell_type": "code",
   "execution_count": null,
   "id": "c3cc480e",
   "metadata": {},
   "outputs": [],
   "source": []
  }
 ],
 "metadata": {
  "kernelspec": {
   "display_name": "Python 3 (ipykernel)",
   "language": "python",
   "name": "python3"
  },
  "language_info": {
   "codemirror_mode": {
    "name": "ipython",
    "version": 3
   },
   "file_extension": ".py",
   "mimetype": "text/x-python",
   "name": "python",
   "nbconvert_exporter": "python",
   "pygments_lexer": "ipython3",
   "version": "3.9.13"
  }
 },
 "nbformat": 4,
 "nbformat_minor": 5
}
