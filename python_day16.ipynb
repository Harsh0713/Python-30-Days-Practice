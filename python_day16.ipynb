{
 "cells": [
  {
   "cell_type": "code",
   "execution_count": 1,
   "id": "24016f52-68ea-4278-b253-a064bb8c53e4",
   "metadata": {},
   "outputs": [],
   "source": [
    "from datetime import datetime,timedelta"
   ]
  },
  {
   "cell_type": "code",
   "execution_count": 74,
   "id": "f1227c1e-1479-41d4-ba06-5ccbe4680a0c",
   "metadata": {},
   "outputs": [],
   "source": [
    "class Account:\n",
    "    def __init__(self, account_number, owner):\n",
    "        self.__account_number = account_number\n",
    "        self.__owner = owner\n",
    "        self.__balance = 0.0\n",
    "        self.__transaction_hostory = []\n",
    "        self.__last_updated = datetime.now()\n",
    "\n",
    "    def deposit(self,amount):\n",
    "        if amount>0:\n",
    "            self.__balance+=amount\n",
    "            self.__transaction_hostory.append(f\"{datetime.now()} - credited {amount} from your account\")\n",
    "            self.__last_updated = datetime.now()\n",
    "            return f\"{amount} INR has been credited to your account\"\n",
    "        else:\n",
    "            return \"Deposit amount should be valid\"\n",
    "\n",
    "    def withdraw(self,amount):\n",
    "        if amount>0 and self.__balance>0:\n",
    "            self.__balance-=amount\n",
    "            self.__transaction_hostory.append(f\"{datetime.now()} - Debited {amount} from your account\")\n",
    "            self.__last_updated = datetime.now()\n",
    "            return f\"{amount} INR has been debited from your account\"\n",
    "        elif amount<=0:\n",
    "            return \"Deposit amount should be valid\"\n",
    "\n",
    "    def get_balance(self):\n",
    "        return self.__balance\n",
    "\n",
    "    def get_details(self):\n",
    "        print(f\"Account holder name - {self.__owner}\")\n",
    "        print(f\"Account Number - {self.__account_number}\")\n",
    "        print(f\"Bank Balance - {self.__balance}\")\n",
    "        for history in self.__transaction_hostory:\n",
    "            print(history)\n",
    "        print(f\"Account last updated on - {self.__last_updated}\")\n",
    "\n",
    "\n",
    "class SavingAccount(Account):\n",
    "    def __init__(self, account_number, owner, interest_rate):\n",
    "        super().__init__(account_number, owner)\n",
    "        self.__interest_rate = interest_rate\n",
    "\n",
    "    def add_interest(self):\n",
    "        interest = (self.get_balance() * self.__interest_rate)/100\n",
    "        self.deposit(interest)\n",
    "\n",
    "class CheckingAccount(Account):\n",
    "    def __init__(self, account_number, owner, od_limit):\n",
    "        super().__init__(account_number, owner)\n",
    "        self.__od_limit = od_limit\n",
    "\n",
    "    def withdraw(self, amount):\n",
    "        if amount>0 and amount<= self.get_balance() + self.__od_limit:\n",
    "            if amount<=self.get_balance():\n",
    "                self.__balance -=amount\n",
    "                self.__transaction_hostory.append(f\"{datetime.now()} - cdebited {amount} from your account\")\n",
    "                self.__last_updated = datetime.now()\n",
    "                return f\"{amount} INR has been debited from your account\"\n",
    "            else:\n",
    "                self.__od_limit -=(amount - self.)\n",
    "                self.__balance = 0\n",
    "                self.__transaction_hostory.append(f\"{datetime.now()} - debited {self.__balance} from your account\")\n",
    "                self.__transaction_hostory.append(f\"{datetime.now()} - debited {amount - self.__balance} from your OD Limit\")\n",
    "                self.__last_updated = datetime.now()\n",
    "                return f\"{amount} INR has been debited from your account\"\n",
    "\n",
    "class Bank:\n",
    "    def __init__(self):\n",
    "        self.__accounts = {}\n",
    "\n",
    "    def create_account(self, account_type, account_number, owner, *args):\n",
    "        if account_number not in self.__accounts:\n",
    "            if account_type == \"savings\":\n",
    "                new_account = SavingAccount(account_number, owner, *args)\n",
    "            elif account_type == \"checking\":\n",
    "                new_account = CheckingAccount(account_number, owner, *args)\n",
    "            else:\n",
    "                return \"Invalid account Type\"\n",
    "            self.__accounts[account_number] = new_account\n",
    "            return f\"Congratulations {owner} - Your account has been created\"\n",
    "    def get_account(self, account_number):\n",
    "        return self.__accounts.get(account_number, \"No account found of this account number\")"
   ]
  },
  {
   "cell_type": "code",
   "execution_count": 75,
   "id": "65cbe7a9-3480-4b48-be6a-777415534868",
   "metadata": {},
   "outputs": [],
   "source": [
    "bank = Bank()"
   ]
  },
  {
   "cell_type": "code",
   "execution_count": 76,
   "id": "928f3ea0-446b-43a3-b7ef-c39a8f139826",
   "metadata": {},
   "outputs": [
    {
     "data": {
      "text/plain": [
       "'Congratulations Nikhil - Your account has been created'"
      ]
     },
     "execution_count": 76,
     "metadata": {},
     "output_type": "execute_result"
    }
   ],
   "source": [
    "bank.create_account(\"savings\",5660, \"Nikhil\",2)"
   ]
  },
  {
   "cell_type": "code",
   "execution_count": 77,
   "id": "62ba615c-1cbb-4d53-a814-3612e7762b72",
   "metadata": {},
   "outputs": [
    {
     "data": {
      "text/plain": [
       "'Congratulations Rohit - Your account has been created'"
      ]
     },
     "execution_count": 77,
     "metadata": {},
     "output_type": "execute_result"
    }
   ],
   "source": [
    "bank.create_account(\"checking\", 5661, \"Rohit\", 300000)"
   ]
  },
  {
   "cell_type": "code",
   "execution_count": 78,
   "id": "ba215c37-ca31-4def-b1ff-1fa75d9247cc",
   "metadata": {},
   "outputs": [],
   "source": [
    "nikhil = bank.get_account(5660)"
   ]
  },
  {
   "cell_type": "code",
   "execution_count": 79,
   "id": "ebe3d58d-49e4-4e75-b012-8c0c215cfc1b",
   "metadata": {},
   "outputs": [
    {
     "data": {
      "text/plain": [
       "__main__.SavingAccount"
      ]
     },
     "execution_count": 79,
     "metadata": {},
     "output_type": "execute_result"
    }
   ],
   "source": [
    "type(nikhil)"
   ]
  },
  {
   "cell_type": "code",
   "execution_count": 80,
   "id": "fd4ece89-17db-49a0-a2b3-a72d497ec271",
   "metadata": {},
   "outputs": [
    {
     "data": {
      "text/plain": [
       "'50000 INR has been credited to your account'"
      ]
     },
     "execution_count": 80,
     "metadata": {},
     "output_type": "execute_result"
    }
   ],
   "source": [
    "nikhil.deposit(50000)"
   ]
  },
  {
   "cell_type": "code",
   "execution_count": 81,
   "id": "8af4f0aa-dacd-4a0a-88b4-2bf13ea96342",
   "metadata": {},
   "outputs": [
    {
     "data": {
      "text/plain": [
       "50000.0"
      ]
     },
     "execution_count": 81,
     "metadata": {},
     "output_type": "execute_result"
    }
   ],
   "source": [
    "nikhil.get_balance()"
   ]
  },
  {
   "cell_type": "code",
   "execution_count": 82,
   "id": "89be3a04-c9b9-4ba2-8129-897ce882393e",
   "metadata": {},
   "outputs": [
    {
     "name": "stdout",
     "output_type": "stream",
     "text": [
      "Account holder name - Nikhil\n",
      "Account Number - 5660\n",
      "Bank Balance - 50000.0\n",
      "2024-08-07 22:19:30.812603 - credited 50000 from your account\n",
      "Account last updated on - 2024-08-07 22:19:30.812637\n"
     ]
    }
   ],
   "source": [
    "nikhil.get_details()"
   ]
  },
  {
   "cell_type": "code",
   "execution_count": 83,
   "id": "429710d1-ca12-486e-b8b9-b70c2c6afbf8",
   "metadata": {},
   "outputs": [
    {
     "data": {
      "text/plain": [
       "'3000 INR has been debited from your account'"
      ]
     },
     "execution_count": 83,
     "metadata": {},
     "output_type": "execute_result"
    }
   ],
   "source": [
    "nikhil.withdraw(3000)"
   ]
  },
  {
   "cell_type": "code",
   "execution_count": 84,
   "id": "bf674bfb-af29-4357-bf2b-a7e16dce1a94",
   "metadata": {},
   "outputs": [
    {
     "data": {
      "text/plain": [
       "47000.0"
      ]
     },
     "execution_count": 84,
     "metadata": {},
     "output_type": "execute_result"
    }
   ],
   "source": [
    "nikhil.get_balance()"
   ]
  },
  {
   "cell_type": "code",
   "execution_count": 85,
   "id": "5024c5b4-0aa6-40d7-a561-6fb62da66ef9",
   "metadata": {},
   "outputs": [],
   "source": [
    "nikhil.add_interest()"
   ]
  },
  {
   "cell_type": "code",
   "execution_count": 86,
   "id": "f44dcb0f-8f50-4d60-8aa1-341ed768bef5",
   "metadata": {},
   "outputs": [
    {
     "data": {
      "text/plain": [
       "47940.0"
      ]
     },
     "execution_count": 86,
     "metadata": {},
     "output_type": "execute_result"
    }
   ],
   "source": [
    "nikhil.get_balance()"
   ]
  },
  {
   "cell_type": "code",
   "execution_count": 87,
   "id": "17311847-7e93-4caa-81ca-050baf08b869",
   "metadata": {},
   "outputs": [],
   "source": [
    "rohit = bank.get_account(5661)"
   ]
  },
  {
   "cell_type": "code",
   "execution_count": 88,
   "id": "0fb5b7b6-715c-4b74-92a7-3ffcdf8d341b",
   "metadata": {},
   "outputs": [
    {
     "name": "stdout",
     "output_type": "stream",
     "text": [
      "Account holder name - Rohit\n",
      "Account Number - 5661\n",
      "Bank Balance - 0.0\n",
      "Account last updated on - 2024-08-07 22:19:28.807782\n"
     ]
    }
   ],
   "source": [
    "rohit.get_details()"
   ]
  },
  {
   "cell_type": "code",
   "execution_count": 89,
   "id": "883701d6-ea15-4177-b416-9b3112836cee",
   "metadata": {},
   "outputs": [
    {
     "ename": "AttributeError",
     "evalue": "'CheckingAccount' object has no attribute '_CheckingAccount__balance'",
     "output_type": "error",
     "traceback": [
      "\u001b[0;31m---------------------------------------------------------------------------\u001b[0m",
      "\u001b[0;31mAttributeError\u001b[0m                            Traceback (most recent call last)",
      "Cell \u001b[0;32mIn[89], line 1\u001b[0m\n\u001b[0;32m----> 1\u001b[0m \u001b[43mrohit\u001b[49m\u001b[38;5;241;43m.\u001b[39;49m\u001b[43mwithdraw\u001b[49m\u001b[43m(\u001b[49m\u001b[38;5;241;43m200000\u001b[39;49m\u001b[43m)\u001b[49m\n",
      "Cell \u001b[0;32mIn[74], line 61\u001b[0m, in \u001b[0;36mCheckingAccount.withdraw\u001b[0;34m(self, amount)\u001b[0m\n\u001b[1;32m     59\u001b[0m     \u001b[38;5;28;01mreturn\u001b[39;00m \u001b[38;5;124mf\u001b[39m\u001b[38;5;124m\"\u001b[39m\u001b[38;5;132;01m{\u001b[39;00mamount\u001b[38;5;132;01m}\u001b[39;00m\u001b[38;5;124m INR has been debited from your account\u001b[39m\u001b[38;5;124m\"\u001b[39m\n\u001b[1;32m     60\u001b[0m \u001b[38;5;28;01melse\u001b[39;00m:\n\u001b[0;32m---> 61\u001b[0m     \u001b[38;5;28mself\u001b[39m\u001b[38;5;241m.\u001b[39m__od_limit \u001b[38;5;241m-\u001b[39m\u001b[38;5;241m=\u001b[39m(amount \u001b[38;5;241m-\u001b[39m \u001b[38;5;28;43mself\u001b[39;49m\u001b[38;5;241;43m.\u001b[39;49m\u001b[43m__balance\u001b[49m)\n\u001b[1;32m     62\u001b[0m     \u001b[38;5;28mself\u001b[39m\u001b[38;5;241m.\u001b[39m__balance \u001b[38;5;241m=\u001b[39m \u001b[38;5;241m0\u001b[39m\n\u001b[1;32m     63\u001b[0m     \u001b[38;5;28mself\u001b[39m\u001b[38;5;241m.\u001b[39m__transaction_hostory\u001b[38;5;241m.\u001b[39mappend(\u001b[38;5;124mf\u001b[39m\u001b[38;5;124m\"\u001b[39m\u001b[38;5;132;01m{\u001b[39;00mdatetime\u001b[38;5;241m.\u001b[39mnow()\u001b[38;5;132;01m}\u001b[39;00m\u001b[38;5;124m - debited \u001b[39m\u001b[38;5;132;01m{\u001b[39;00m\u001b[38;5;28mself\u001b[39m\u001b[38;5;241m.\u001b[39m__balance\u001b[38;5;132;01m}\u001b[39;00m\u001b[38;5;124m from your account\u001b[39m\u001b[38;5;124m\"\u001b[39m)\n",
      "\u001b[0;31mAttributeError\u001b[0m: 'CheckingAccount' object has no attribute '_CheckingAccount__balance'"
     ]
    }
   ],
   "source": [
    "rohit.withdraw(200000) #Solve this error"
   ]
  },
  {
   "cell_type": "code",
   "execution_count": null,
   "id": "e28e5152-2065-40e0-9892-f3295231d4dc",
   "metadata": {},
   "outputs": [],
   "source": []
  }
 ],
 "metadata": {
  "kernelspec": {
   "display_name": "Python 3 (ipykernel)",
   "language": "python",
   "name": "python3"
  },
  "language_info": {
   "codemirror_mode": {
    "name": "ipython",
    "version": 3
   },
   "file_extension": ".py",
   "mimetype": "text/x-python",
   "name": "python",
   "nbconvert_exporter": "python",
   "pygments_lexer": "ipython3",
   "version": "3.9.13"
  }
 },
 "nbformat": 4,
 "nbformat_minor": 5
}
