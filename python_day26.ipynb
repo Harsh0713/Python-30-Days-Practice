{
 "cells": [
  {
   "cell_type": "code",
   "execution_count": 2,
   "id": "73434c2d",
   "metadata": {},
   "outputs": [],
   "source": [
    "from tkinter import *"
   ]
  },
  {
   "cell_type": "code",
   "execution_count": 13,
   "id": "71931444",
   "metadata": {},
   "outputs": [],
   "source": [
    "calculator = Tk()\n",
    "calculator.geometry(\"312x324\")\n",
    "calculator.resizable(0,0)\n",
    "calculator.title(\"Calculator\")\n",
    "input_text = StringVar()\n",
    "input_frame = Frame(calculator, width = 312, height = 50, bd = 0, highlightbackground = \"black\", highlightcolor = \"black\", highlightthickness = 1)\n",
    "input_frame.pack(side = TOP)\n",
    "input_field = Entry(input_frame, font = ('arial', 18, 'bold'), textvariable = input_text , width=50, bg=\"#eee\", bd=0, justify=RIGHT)\n",
    "input_field.grid(row=0, column=0)\n",
    "input_field.pack(pady = 10)\n",
    "\n",
    "def btn_click(item):\n",
    "    global expression\n",
    "    \n",
    "    expression = expression + str(item)\n",
    "    \n",
    "    input_text.set(expression)\n",
    "    \n",
    "def btn_clear():\n",
    "    global expression\n",
    "    \n",
    "    expression = \"\"\n",
    "    \n",
    "    input_text.set(\"\")\n",
    "    \n",
    "def btn_eql():\n",
    "    global expression\n",
    "    result = str(eval(expression))\n",
    "    \n",
    "    input_text.set(result)\n",
    "\n",
    "expression = \"\"\n",
    "\n",
    "btns_frame = Frame(calculator, width = 312, height = 270, bd = 0,bg = \"grey\")\n",
    "\n",
    "clear = Button(btns_frame, text = \"C\", fg=\"black\", width=32, height=3, bd=0, bg=\"#eee\", cursor=\"hand2\", command = lambda: btn_clear()).grid(row=0,column=0,columnspan=3, padx=1, pady=1)\n",
    "divide = Button(btns_frame, text = \"/\", fg=\"black\", width=10, height=3, bd=0, bg=\"#eee\", cursor=\"hand2\", command = lambda: btn_click(\"/\") ).grid(row=0,column=3, padx=1, pady=1)\n",
    "\n",
    "seven = Button(btns_frame, text = \"7\", fg=\"black\", width=10, height=3, bd=0, bg=\"#fff\", cursor=\"hand2\",command = lambda: btn_click(\"7\") ).grid(row=1,column=0, padx=1, pady=1)\n",
    "eight = Button(btns_frame, text = \"8\", fg=\"black\", width=10, height=3, bd=0, bg=\"#fff\", cursor=\"hand2\",command = lambda: btn_click(\"8\")).grid(row=1,column=1, padx=1, pady=1)\n",
    "nine = Button(btns_frame, text = \"9\", fg=\"black\", width=10, height=3, bd=0, bg=\"#fff\", cursor=\"hand2\",command = lambda: btn_click(\"9\")).grid(row=1,column=2, padx=1, pady=1)\n",
    "plus = Button(btns_frame, text = \"+\", fg=\"black\", width=10, height=3, bd=0, bg=\"#fff\", cursor=\"hand2\",command = lambda: btn_click(\"+\")).grid(row=1,column=3, padx=1, pady=1)\n",
    "\n",
    "four = Button(btns_frame, text = \"4\", fg=\"black\", width=10, height=3, bd=0, bg=\"#fff\", cursor=\"hand2\",command = lambda: btn_click(\"4\")).grid(row=2,column=0, padx=1, pady=1)\n",
    "five = Button(btns_frame, text = \"5\", fg=\"black\", width=10, height=3, bd=0, bg=\"#fff\", cursor=\"hand2\",command = lambda: btn_click(\"5\")).grid(row=2,column=1, padx=1, pady=1)\n",
    "six = Button(btns_frame, text = \"6\", fg=\"black\", width=10, height=3, bd=0, bg=\"#fff\", cursor=\"hand2\",command = lambda: btn_click(\"6\")).grid(row=2,column=2, padx=1, pady=1)\n",
    "minus = Button(btns_frame, text = \"-\", fg=\"black\", width=10, height=3, bd=0, bg=\"#fff\", cursor=\"hand2\",command = lambda: btn_click(\"-\")).grid(row=2,column=3, padx=1, pady=1)\n",
    "\n",
    "one = Button(btns_frame, text = \"1\", fg=\"black\", width=10, height=3, bd=0, bg=\"#fff\", cursor=\"hand2\",command = lambda: btn_click(\"1\")).grid(row=3,column=0, padx=1, pady=1)\n",
    "two = Button(btns_frame, text = \"2\", fg=\"black\", width=10, height=3, bd=0, bg=\"#fff\", cursor=\"hand2\",command = lambda: btn_click(\"2\")).grid(row=3,column=1, padx=1, pady=1)\n",
    "three = Button(btns_frame, text = \"3\", fg=\"black\", width=10, height=3, bd=0, bg=\"#fff\", cursor=\"hand2\",command = lambda: btn_click(\"3\")).grid(row=3,column=2, padx=1, pady=1)\n",
    "multiply = Button(btns_frame, text = \"*\", fg=\"black\", width=10, height=3, bd=0, bg=\"#fff\", cursor=\"hand2\",command = lambda: btn_click(\"*\")).grid(row=3,column=3, padx=1, pady=1)\n",
    "\n",
    "zero = Button(btns_frame, text = \"0\", fg=\"black\", width=10, height=3, bd=0, bg=\"#fff\", cursor=\"hand2\",command = lambda: btn_click(\"0\")).grid(row=4,column=0, columnspan = 2, padx=1, pady=1)\n",
    "point = Button(btns_frame, text = \".\", fg=\"black\", width=10, height=3, bd=0, bg=\"#eee\", cursor=\"hand2\",command = lambda: btn_click(\".\")).grid(row=4,column=2, padx=1, pady=1)\n",
    "equals = Button(btns_frame, text = \"=\", fg=\"black\", width=10, height=3, bd=0, bg=\"#eee\", cursor=\"hand2\",command = lambda: btn_eql()).grid(row=4,column=3, padx=1, pady=1)\n",
    "\n",
    "\n",
    "\n",
    "btns_frame.pack()\n",
    "calculator.mainloop()"
   ]
  },
  {
   "cell_type": "code",
   "execution_count": null,
   "id": "a3208ccf",
   "metadata": {},
   "outputs": [],
   "source": []
  },
  {
   "cell_type": "code",
   "execution_count": null,
   "id": "b16a8dc9",
   "metadata": {},
   "outputs": [],
   "source": []
  }
 ],
 "metadata": {
  "kernelspec": {
   "display_name": "Python 3 (ipykernel)",
   "language": "python",
   "name": "python3"
  },
  "language_info": {
   "codemirror_mode": {
    "name": "ipython",
    "version": 3
   },
   "file_extension": ".py",
   "mimetype": "text/x-python",
   "name": "python",
   "nbconvert_exporter": "python",
   "pygments_lexer": "ipython3",
   "version": "3.9.13"
  }
 },
 "nbformat": 4,
 "nbformat_minor": 5
}
