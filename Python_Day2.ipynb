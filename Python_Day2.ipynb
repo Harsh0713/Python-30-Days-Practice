{
 "cells": [
  {
   "cell_type": "markdown",
   "id": "e4741888",
   "metadata": {},
   "source": [
    "# Python DataType\n",
    "\n",
    "1. int\n",
    "2. float\n",
    "3. complex\n",
    "4. string\n",
    "\n",
    "5. list\n",
    "6. set\n",
    "7. dictionary"
   ]
  },
  {
   "cell_type": "code",
   "execution_count": 1,
   "id": "0694f9b8",
   "metadata": {},
   "outputs": [
    {
     "data": {
      "text/plain": [
       "int"
      ]
     },
     "execution_count": 1,
     "metadata": {},
     "output_type": "execute_result"
    }
   ],
   "source": [
    "#int\n",
    "\n",
    "my_int = 10\n",
    "type(my_int)"
   ]
  },
  {
   "cell_type": "code",
   "execution_count": 2,
   "id": "7384ac27",
   "metadata": {},
   "outputs": [
    {
     "data": {
      "text/plain": [
       "float"
      ]
     },
     "execution_count": 2,
     "metadata": {},
     "output_type": "execute_result"
    }
   ],
   "source": [
    "#float\n",
    "\n",
    "my_float = 10.34\n",
    "type(my_float)"
   ]
  },
  {
   "cell_type": "markdown",
   "id": "87cad564",
   "metadata": {},
   "source": [
    "# Operations on Numeric DataType\n",
    "\n",
    "1. Arithmetic\n",
    "2. Assignment \n",
    "3. Boolean\n",
    "4. Comparision\n",
    "5. Logical"
   ]
  },
  {
   "cell_type": "markdown",
   "id": "d754d7a1",
   "metadata": {},
   "source": [
    "# Division \n",
    "\n",
    "1. Integer Division\n",
    " \n",
    " a. Returns integer only\n",
    " \n",
    " b. It uses // operator \n",
    " \n",
    " c. It only returns the quotient of the division \n",
    " \n",
    "\n",
    "2. Float Division\n",
    " \n",
    " a. Returns Float\n",
    " \n",
    " b. It uses / operator\n",
    " \n",
    " c. It returns the complete division"
   ]
  },
  {
   "cell_type": "markdown",
   "id": "52e65bab",
   "metadata": {},
   "source": [
    " # Operations on INTEGER"
   ]
  },
  {
   "cell_type": "code",
   "execution_count": 3,
   "id": "bb03d203",
   "metadata": {},
   "outputs": [
    {
     "name": "stdout",
     "output_type": "stream",
     "text": [
      "14\n",
      "6\n",
      "40\n",
      "2.5\n",
      "2\n",
      "10000\n"
     ]
    }
   ],
   "source": [
    "my_int = 10\n",
    "print(my_int + 4) #Addition \n",
    "print(my_int - 4) #Subtraction \n",
    "print(my_int * 4) #Multiplication\n",
    "print(my_int / 4) #Float Division\n",
    "print(my_int // 4) #Integer Division\n",
    "print(my_int ** 4) #Power"
   ]
  },
  {
   "cell_type": "code",
   "execution_count": 5,
   "id": "45f6b8fa",
   "metadata": {},
   "outputs": [
    {
     "name": "stdout",
     "output_type": "stream",
     "text": [
      "2\n"
     ]
    }
   ],
   "source": [
    "my_int = 10\n",
    "print(my_int//4)"
   ]
  },
  {
   "cell_type": "code",
   "execution_count": 6,
   "id": "fe810e53",
   "metadata": {},
   "outputs": [
    {
     "name": "stdout",
     "output_type": "stream",
     "text": [
      "2.5\n"
     ]
    }
   ],
   "source": [
    "print(my_int/4)"
   ]
  },
  {
   "cell_type": "markdown",
   "id": "549008ee",
   "metadata": {},
   "source": [
    "# Multiplication in float"
   ]
  },
  {
   "cell_type": "code",
   "execution_count": 4,
   "id": "18ab7241",
   "metadata": {},
   "outputs": [
    {
     "name": "stdout",
     "output_type": "stream",
     "text": [
      "14.5\n",
      "6.5\n",
      "42.0\n",
      "2.0\n",
      "2.625\n",
      "12155.0625\n",
      "<class 'float'>\n"
     ]
    }
   ],
   "source": [
    "my_float = 10.5\n",
    "print(my_float + 4) #Addition\n",
    "print(my_float - 4) #Subtraction\n",
    "print(my_float * 4) #Multiplication\n",
    "print(my_float // 4) #Int division\n",
    "print(my_float / 4) #Float division\n",
    "print(my_float ** 4) #Power\n",
    "print(type(my_float)) #Type"
   ]
  },
  {
   "cell_type": "markdown",
   "id": "8b938400",
   "metadata": {},
   "source": [
    "# Integer Division i.e returns int value"
   ]
  },
  {
   "cell_type": "code",
   "execution_count": 13,
   "id": "36c97990",
   "metadata": {},
   "outputs": [
    {
     "name": "stdout",
     "output_type": "stream",
     "text": [
      "5.0\n"
     ]
    }
   ],
   "source": [
    "my_float = 10.5\n",
    "print(my_float//2)"
   ]
  },
  {
   "cell_type": "markdown",
   "id": "64cb09d1",
   "metadata": {},
   "source": [
    "# Assignment Operator\n"
   ]
  },
  {
   "cell_type": "code",
   "execution_count": 14,
   "id": "753acebf",
   "metadata": {},
   "outputs": [],
   "source": [
    "my_int = my_int + 10"
   ]
  },
  {
   "cell_type": "code",
   "execution_count": 15,
   "id": "605c919b",
   "metadata": {},
   "outputs": [
    {
     "data": {
      "text/plain": [
       "20"
      ]
     },
     "execution_count": 15,
     "metadata": {},
     "output_type": "execute_result"
    }
   ],
   "source": [
    "my_int"
   ]
  },
  {
   "cell_type": "code",
   "execution_count": 16,
   "id": "f8086931",
   "metadata": {},
   "outputs": [
    {
     "data": {
      "text/plain": [
       "30"
      ]
     },
     "execution_count": 16,
     "metadata": {},
     "output_type": "execute_result"
    }
   ],
   "source": [
    "my_int += 10\n",
    "my_int"
   ]
  },
  {
   "cell_type": "markdown",
   "id": "43fa1a82",
   "metadata": {},
   "source": [
    "# Boolean Operations"
   ]
  },
  {
   "cell_type": "code",
   "execution_count": 17,
   "id": "fee8e75d",
   "metadata": {},
   "outputs": [
    {
     "data": {
      "text/plain": [
       "True"
      ]
     },
     "execution_count": 17,
     "metadata": {},
     "output_type": "execute_result"
    }
   ],
   "source": [
    "bool(my_int)"
   ]
  },
  {
   "cell_type": "markdown",
   "id": "4b3a75a4",
   "metadata": {},
   "source": [
    "# When the value is 0 boolean output is always F"
   ]
  },
  {
   "cell_type": "code",
   "execution_count": 19,
   "id": "a2a97cb0",
   "metadata": {},
   "outputs": [
    {
     "data": {
      "text/plain": [
       "False"
      ]
     },
     "execution_count": 19,
     "metadata": {},
     "output_type": "execute_result"
    }
   ],
   "source": [
    "my_bool_int = 0\n",
    "bool(my_bool_int)"
   ]
  },
  {
   "cell_type": "markdown",
   "id": "1eb7a85d",
   "metadata": {},
   "source": [
    "# Comparision Operators\n",
    "   \n",
    "   ==\n",
    "   \n",
    "   !=\n",
    "   \n",
    "     \n",
    "     >=\n",
    "   \n",
    "   <=\n",
    "   \n",
    "   <\n",
    "   \n",
    "     \n",
    "      >\n"
   ]
  },
  {
   "cell_type": "code",
   "execution_count": 6,
   "id": "f22645f7",
   "metadata": {},
   "outputs": [
    {
     "name": "stdout",
     "output_type": "stream",
     "text": [
      "False\n",
      "True\n",
      "False\n",
      "True\n",
      "False\n",
      "True\n"
     ]
    }
   ],
   "source": [
    "val_1 = 10\n",
    "val_2 = 13\n",
    "\n",
    "print(val_1 == val_2) #Equals\n",
    "print(val_1 <= val_2) #Less than or Equal\n",
    "print(val_1 >= val_2) #Greater than or Equal\n",
    "print(val_1 != val_2) #Not equals\n",
    "print(val_1 > val_2) #Greater Than \n",
    "print(val_1 < val_2) #Less than"
   ]
  },
  {
   "cell_type": "markdown",
   "id": "59210e89",
   "metadata": {},
   "source": [
    "# Using AND Operator"
   ]
  },
  {
   "cell_type": "code",
   "execution_count": 21,
   "id": "14ebda71",
   "metadata": {},
   "outputs": [
    {
     "name": "stdout",
     "output_type": "stream",
     "text": [
      "False\n"
     ]
    }
   ],
   "source": [
    "bool1 = True\n",
    "bool2 = True\n",
    "print(bool1 and False)"
   ]
  },
  {
   "cell_type": "markdown",
   "id": "84795a4a",
   "metadata": {},
   "source": [
    "# Using OR Operator"
   ]
  },
  {
   "cell_type": "code",
   "execution_count": 22,
   "id": "f08a2c38",
   "metadata": {},
   "outputs": [
    {
     "name": "stdout",
     "output_type": "stream",
     "text": [
      "True\n"
     ]
    }
   ],
   "source": [
    "bool1 = True\n",
    "bool2 = True\n",
    "print(bool1 or False)"
   ]
  },
  {
   "cell_type": "markdown",
   "id": "b5c9c4b9",
   "metadata": {},
   "source": [
    "# String\n",
    " \n",
    " 1. We enclose it in single/double quotes\n",
    " 2. It takes bytes according to the number of characters"
   ]
  },
  {
   "cell_type": "code",
   "execution_count": 23,
   "id": "fa7acfbe",
   "metadata": {},
   "outputs": [
    {
     "name": "stdout",
     "output_type": "stream",
     "text": [
      "Hello World\n"
     ]
    }
   ],
   "source": [
    "a = (\"Hello World\")\n",
    "print(a)"
   ]
  },
  {
   "cell_type": "code",
   "execution_count": 24,
   "id": "b27bf6b1",
   "metadata": {},
   "outputs": [
    {
     "name": "stdout",
     "output_type": "stream",
     "text": [
      "Hello World Harsh\n"
     ]
    }
   ],
   "source": [
    "print(a + \" Harsh\")"
   ]
  },
  {
   "cell_type": "markdown",
   "id": "a5596650",
   "metadata": {},
   "source": [
    "# Slicing \n",
    " \n",
    " 1. Indexing \n",
    "  \n",
    "  a. Starts from 0 \n",
    "  \n",
    "  b. Last index is always one less than the total length\n",
    "  \n",
    "\n",
    " 2. Slicing\n",
    " \n",
    "  a. Cutting downt the string according to our need"
   ]
  },
  {
   "cell_type": "markdown",
   "id": "7e702c5b",
   "metadata": {},
   "source": [
    "# Print the required elements from string"
   ]
  },
  {
   "cell_type": "code",
   "execution_count": 11,
   "id": "82640989",
   "metadata": {},
   "outputs": [
    {
     "name": "stdout",
     "output_type": "stream",
     "text": [
      "Hello Python\n",
      "H  \n",
      "ello Python\n",
      "Hello Pytho\n",
      "llo P\n",
      "Hello Python Language\n"
     ]
    }
   ],
   "source": [
    "string = \"Hello Python\"\n",
    "\n",
    "print(string)\n",
    "\n",
    "print(string[0], string[5]) #Accessing characters of string\n",
    "\n",
    "print(string[1:]) #Forward slicing\n",
    "\n",
    "print(string[:-1]) #Backward slicing\n",
    "\n",
    "print(string[2:7]) #Getting middle of string\n",
    "\n",
    "print(string + \" Language\") #Concating a string"
   ]
  },
  {
   "cell_type": "markdown",
   "id": "bc311977",
   "metadata": {},
   "source": [
    "# Reverse the string \n"
   ]
  },
  {
   "cell_type": "code",
   "execution_count": 12,
   "id": "60a8c0b7",
   "metadata": {},
   "outputs": [
    {
     "data": {
      "text/plain": [
       "'nohtyP olleH'"
      ]
     },
     "execution_count": 12,
     "metadata": {},
     "output_type": "execute_result"
    }
   ],
   "source": [
    "string = \"Hello Python\"\n",
    "string[::-1]"
   ]
  },
  {
   "cell_type": "markdown",
   "id": "199715ce",
   "metadata": {},
   "source": [
    "# Printing first two elements of string"
   ]
  },
  {
   "cell_type": "code",
   "execution_count": 13,
   "id": "350a4d41",
   "metadata": {},
   "outputs": [
    {
     "data": {
      "text/plain": [
       "'He'"
      ]
     },
     "execution_count": 13,
     "metadata": {},
     "output_type": "execute_result"
    }
   ],
   "source": [
    "string = \"Hello Python\"\n",
    "string[:2]"
   ]
  },
  {
   "cell_type": "markdown",
   "id": "a0e9e911",
   "metadata": {},
   "source": [
    "# Printing the elements except the first two"
   ]
  },
  {
   "cell_type": "code",
   "execution_count": 31,
   "id": "20525215",
   "metadata": {},
   "outputs": [
    {
     "data": {
      "text/plain": [
       "'llo Python'"
      ]
     },
     "execution_count": 31,
     "metadata": {},
     "output_type": "execute_result"
    }
   ],
   "source": [
    "string = \"Hello Python\"\n",
    "string[2:]"
   ]
  },
  {
   "cell_type": "markdown",
   "id": "23ca8fa5",
   "metadata": {},
   "source": [
    "# Strip the string"
   ]
  },
  {
   "cell_type": "code",
   "execution_count": 15,
   "id": "77216b60",
   "metadata": {},
   "outputs": [
    {
     "name": "stdout",
     "output_type": "stream",
     "text": [
      "Hello World\n"
     ]
    }
   ],
   "source": [
    "string1 = \"Hello World\"\n",
    "string1 = string1.strip() #Strip function to remove the spaces\n",
    "print(string1)"
   ]
  },
  {
   "cell_type": "markdown",
   "id": "6780ab45",
   "metadata": {},
   "source": [
    "# Split the string"
   ]
  },
  {
   "cell_type": "code",
   "execution_count": 14,
   "id": "6b0f64f0",
   "metadata": {},
   "outputs": [],
   "source": [
    "string = \"Hello Python\"\n",
    "\n",
    "word1, word2 = string.split(\" \")"
   ]
  },
  {
   "cell_type": "code",
   "execution_count": 33,
   "id": "667826aa",
   "metadata": {},
   "outputs": [
    {
     "data": {
      "text/plain": [
       "'Hello'"
      ]
     },
     "execution_count": 33,
     "metadata": {},
     "output_type": "execute_result"
    }
   ],
   "source": [
    "word1"
   ]
  },
  {
   "cell_type": "code",
   "execution_count": 34,
   "id": "3185c235",
   "metadata": {},
   "outputs": [
    {
     "data": {
      "text/plain": [
       "'Python'"
      ]
     },
     "execution_count": 34,
     "metadata": {},
     "output_type": "execute_result"
    }
   ],
   "source": [
    "word2"
   ]
  },
  {
   "cell_type": "markdown",
   "id": "46c163de",
   "metadata": {},
   "source": [
    "# List\n",
    "1. Collective DataType\n",
    "2. To innitiate List using []\n",
    "3. Can add any datatype in list\n",
    "4. We have functions like add, append, sort, sum etc"
   ]
  },
  {
   "cell_type": "code",
   "execution_count": 37,
   "id": "2ec99e0b",
   "metadata": {},
   "outputs": [
    {
     "name": "stdout",
     "output_type": "stream",
     "text": [
      "<class 'list'>\n"
     ]
    }
   ],
   "source": [
    "my_list = []\n",
    "print(type(my_list))"
   ]
  },
  {
   "cell_type": "markdown",
   "id": "e69cf28d",
   "metadata": {},
   "source": [
    "# Append and Sum"
   ]
  },
  {
   "cell_type": "code",
   "execution_count": 38,
   "id": "3b9db952",
   "metadata": {},
   "outputs": [
    {
     "data": {
      "text/plain": [
       "8"
      ]
     },
     "execution_count": 38,
     "metadata": {},
     "output_type": "execute_result"
    }
   ],
   "source": [
    "my_list = [2,3]\n",
    "my_list.append(3)\n",
    "sum(my_list)"
   ]
  },
  {
   "cell_type": "code",
   "execution_count": 40,
   "id": "1145de71",
   "metadata": {},
   "outputs": [
    {
     "name": "stdout",
     "output_type": "stream",
     "text": [
      "[2, 3, 3]\n"
     ]
    }
   ],
   "source": [
    "my_list = [2,3]\n",
    "my_list.append(3)\n",
    "print(my_list)"
   ]
  },
  {
   "cell_type": "markdown",
   "id": "3c8addc5",
   "metadata": {},
   "source": [
    "# Append and Sort"
   ]
  },
  {
   "cell_type": "code",
   "execution_count": 41,
   "id": "f7120ec2",
   "metadata": {},
   "outputs": [
    {
     "name": "stdout",
     "output_type": "stream",
     "text": [
      "[2, 3, 3]\n"
     ]
    }
   ],
   "source": [
    "my_list = [2,3]\n",
    "my_list.append(3)\n",
    "print(my_list)\n",
    "my_list = sorted(my_list)"
   ]
  },
  {
   "cell_type": "markdown",
   "id": "868645d1",
   "metadata": {},
   "source": [
    "# Append and Print (Append means add something at the end)"
   ]
  },
  {
   "cell_type": "code",
   "execution_count": 2,
   "id": "75646b94",
   "metadata": {},
   "outputs": [
    {
     "name": "stdout",
     "output_type": "stream",
     "text": [
      "[2, 3, 3, [4, 5], 'Hello']\n"
     ]
    }
   ],
   "source": [
    "my_list = [2,3]\n",
    "my_list.append(3)\n",
    "my_list.append([4,5]) \n",
    "my_list.append(\"Hello\")\n",
    "print(my_list)"
   ]
  },
  {
   "cell_type": "markdown",
   "id": "ad6055b0",
   "metadata": {},
   "source": [
    "# Tuple\n",
    "1. Immutable\n",
    "2. Collective DataType\n",
    "3. In paranthesis"
   ]
  },
  {
   "cell_type": "code",
   "execution_count": 49,
   "id": "0043f291",
   "metadata": {},
   "outputs": [
    {
     "name": "stdout",
     "output_type": "stream",
     "text": [
      "<class 'tuple'>\n",
      "(1, 2, 3, 'Hello')\n"
     ]
    }
   ],
   "source": [
    "my_tuple = (1,2,3, 'Hello')\n",
    "print(type(my_tuple))\n",
    "print(my_tuple)"
   ]
  },
  {
   "cell_type": "markdown",
   "id": "b54c9d97",
   "metadata": {},
   "source": [
    "# Set\n",
    "1. Collective DataType \n",
    "2. It dsent allow repeated values\n",
    "3. It is mutable can be changed\n",
    "4. Defined in {}"
   ]
  },
  {
   "cell_type": "markdown",
   "id": "a3c19cb6",
   "metadata": {},
   "source": [
    "# Set remove the repeated element while printing "
   ]
  },
  {
   "cell_type": "code",
   "execution_count": 53,
   "id": "095749ba",
   "metadata": {},
   "outputs": [
    {
     "name": "stdout",
     "output_type": "stream",
     "text": [
      "{1, 2, 3, 4, 5}\n"
     ]
    }
   ],
   "source": [
    "my_set = {1,2,3,4,5,5}\n",
    "print(my_set)"
   ]
  },
  {
   "cell_type": "markdown",
   "id": "f3c7d574",
   "metadata": {},
   "source": [
    "# Set converted to List "
   ]
  },
  {
   "cell_type": "code",
   "execution_count": 51,
   "id": "d55c84ac",
   "metadata": {},
   "outputs": [
    {
     "data": {
      "text/plain": [
       "[1, 2, 3, 4, 5]"
      ]
     },
     "execution_count": 51,
     "metadata": {},
     "output_type": "execute_result"
    }
   ],
   "source": [
    "my_set = {1,2,3,4,5,5}\n",
    "list(my_set)"
   ]
  },
  {
   "cell_type": "markdown",
   "id": "8a5d8723",
   "metadata": {},
   "source": [
    "# Set converted to Tuple"
   ]
  },
  {
   "cell_type": "code",
   "execution_count": 52,
   "id": "92997887",
   "metadata": {},
   "outputs": [
    {
     "data": {
      "text/plain": [
       "(1, 2, 3, 4, 5)"
      ]
     },
     "execution_count": 52,
     "metadata": {},
     "output_type": "execute_result"
    }
   ],
   "source": [
    "my_set = {1,2,3,4,5,5}\n",
    "tuple(my_set)"
   ]
  },
  {
   "cell_type": "markdown",
   "id": "3d9508e9",
   "metadata": {},
   "source": [
    "# Dictionary\n",
    "1. Stores key value pairs\n",
    "2. Collective Datatype\n",
    "3. Stored in curly braces"
   ]
  },
  {
   "cell_type": "markdown",
   "id": "cb751fac",
   "metadata": {},
   "source": [
    "# Print keys and the key values"
   ]
  },
  {
   "cell_type": "code",
   "execution_count": 17,
   "id": "d6f2e631",
   "metadata": {},
   "outputs": [
    {
     "name": "stdout",
     "output_type": "stream",
     "text": [
      "dict_keys([1, 2, 3])\n",
      "dict_values(['Mango', 'Banana', 'Chiku'])\n",
      "Chiku\n",
      "dict_items([(1, 'Mango'), (2, 'Banana'), (3, 'Chiku')])\n",
      "{1: 'Mango', 2: 'Banana', 3: 'Chiku'}\n"
     ]
    }
   ],
   "source": [
    "my_dict = {\n",
    "    1: \"Mango\",\n",
    "    2: \"Banana\",\n",
    "    3: \"Chiku\"\n",
    "}\n",
    "print(my_dict.keys())  \n",
    "print(my_dict.values())\n",
    "print(my_dict.get(3))\n",
    "print(my_dict.items())  #Getting whole dict items with each key value pair in tuple\n",
    "print(my_dict)"
   ]
  },
  {
   "cell_type": "markdown",
   "id": "4f4f260c",
   "metadata": {},
   "source": [
    "# Print the distinct key value"
   ]
  },
  {
   "cell_type": "code",
   "execution_count": 58,
   "id": "47f50e83",
   "metadata": {},
   "outputs": [
    {
     "name": "stdout",
     "output_type": "stream",
     "text": [
      "Banana\n"
     ]
    }
   ],
   "source": [
    "my_dict = {\n",
    "    1: \"Mango\",\n",
    "    2: \"Banana\",\n",
    "    3: \"Chiku\"\n",
    "}\n",
    "\n",
    "print(my_dict.get(2))"
   ]
  },
  {
   "cell_type": "code",
   "execution_count": null,
   "id": "66c8e5e9",
   "metadata": {},
   "outputs": [],
   "source": []
  }
 ],
 "metadata": {
  "kernelspec": {
   "display_name": "Python 3 (ipykernel)",
   "language": "python",
   "name": "python3"
  },
  "language_info": {
   "codemirror_mode": {
    "name": "ipython",
    "version": 3
   },
   "file_extension": ".py",
   "mimetype": "text/x-python",
   "name": "python",
   "nbconvert_exporter": "python",
   "pygments_lexer": "ipython3",
   "version": "3.9.13"
  }
 },
 "nbformat": 4,
 "nbformat_minor": 5
}
