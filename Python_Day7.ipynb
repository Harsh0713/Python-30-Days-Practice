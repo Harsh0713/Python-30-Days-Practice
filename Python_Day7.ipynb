{
 "cells": [
  {
   "cell_type": "markdown",
   "id": "3b3ac521",
   "metadata": {},
   "source": [
    "# File Handling \n",
    "\n",
    "1. Read a file\n",
    "\n",
    "2. Write a file\n",
    "\n",
    "3. Append a file\n",
    "\n",
    "4. Close a file\n",
    "\n",
    "5. Write operations\n",
    "\n",
    "Modes of files:\n",
    "1. READ - r\n",
    "2. WRITE - w\n",
    "3. APPEND - a\n",
    "4. READ BINARY\n"
   ]
  },
  {
   "cell_type": "markdown",
   "id": "416f5114",
   "metadata": {},
   "source": [
    "# Read Mode of File"
   ]
  },
  {
   "cell_type": "code",
   "execution_count": 3,
   "id": "10b61ebc",
   "metadata": {},
   "outputs": [
    {
     "name": "stdout",
     "output_type": "stream",
     "text": [
      "Hello this is Harsh Hate\n",
      "\n"
     ]
    }
   ],
   "source": [
    "f = open(\"file.txt\", 'r')          #r is read mode of the file\n",
    "text = f.read()                     # read file \n",
    "print(text)"
   ]
  },
  {
   "cell_type": "markdown",
   "id": "c2f9e7ff",
   "metadata": {},
   "source": [
    "# Write Mode of File"
   ]
  },
  {
   "cell_type": "code",
   "execution_count": 9,
   "id": "64490f60",
   "metadata": {},
   "outputs": [],
   "source": [
    "f2 = open(\"file.txt\", 'w')          #w is write mode of the file\n",
    "f2.write(\"HELLO HARSH\")                     #read file \n",
    "f2.close()                            #close the file to see the output"
   ]
  },
  {
   "cell_type": "markdown",
   "id": "7e8f9367",
   "metadata": {},
   "source": [
    "# Append a File"
   ]
  },
  {
   "cell_type": "code",
   "execution_count": 10,
   "id": "c2b5fc35",
   "metadata": {},
   "outputs": [],
   "source": [
    "f3 = open(\"file.txt\", 'a')\n",
    "f3.write(\"Hello Students\")\n",
    "f3.close()"
   ]
  },
  {
   "cell_type": "markdown",
   "id": "33fd0799",
   "metadata": {},
   "source": [
    "# With Operation"
   ]
  },
  {
   "cell_type": "code",
   "execution_count": 18,
   "id": "771d00fb",
   "metadata": {},
   "outputs": [],
   "source": [
    "with open(\"file.txt\", 'a') as f4:         #after using with no need of close()\n",
    "    f4.write(\"Hello Python\")"
   ]
  },
  {
   "cell_type": "code",
   "execution_count": 20,
   "id": "cb11f0b6",
   "metadata": {},
   "outputs": [
    {
     "name": "stdout",
     "output_type": "stream",
     "text": [
      "HELLO HARSHHello StudentsHello PythonHello Python\n"
     ]
    }
   ],
   "source": [
    "with open(\"file.txt\", 'r') as f4:         #after using with no need of close()\n",
    "    text = f4.read()\n",
    "    print(text)\n",
    "        \n",
    "    "
   ]
  },
  {
   "cell_type": "markdown",
   "id": "5fc6aa65",
   "metadata": {},
   "source": [
    "# Creation of new file"
   ]
  },
  {
   "cell_type": "code",
   "execution_count": 21,
   "id": "12094669",
   "metadata": {},
   "outputs": [],
   "source": [
    "f5 = open(\"file.txt\", 'w')\n",
    "f5.write(\"New file\")\n",
    "f5.close()"
   ]
  },
  {
   "cell_type": "code",
   "execution_count": null,
   "id": "e2c85495",
   "metadata": {},
   "outputs": [],
   "source": []
  }
 ],
 "metadata": {
  "kernelspec": {
   "display_name": "Python 3 (ipykernel)",
   "language": "python",
   "name": "python3"
  },
  "language_info": {
   "codemirror_mode": {
    "name": "ipython",
    "version": 3
   },
   "file_extension": ".py",
   "mimetype": "text/x-python",
   "name": "python",
   "nbconvert_exporter": "python",
   "pygments_lexer": "ipython3",
   "version": "3.9.13"
  }
 },
 "nbformat": 4,
 "nbformat_minor": 5
}
