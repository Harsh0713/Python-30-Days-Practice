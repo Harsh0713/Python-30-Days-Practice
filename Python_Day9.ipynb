{
 "cells": [
  {
   "cell_type": "markdown",
   "id": "2f2c433b",
   "metadata": {},
   "source": [
    "# Libraries in python\n",
    "1. Collection of functions and modules\n",
    "2. It can be helped to import functions which are pre-defined inn the library to use in our current script."
   ]
  },
  {
   "cell_type": "code",
   "execution_count": 1,
   "id": "d5f62961",
   "metadata": {},
   "outputs": [],
   "source": [
    "import math "
   ]
  },
  {
   "cell_type": "code",
   "execution_count": 2,
   "id": "07fc4a49",
   "metadata": {},
   "outputs": [
    {
     "data": {
      "text/plain": [
       "3.141592653589793"
      ]
     },
     "execution_count": 2,
     "metadata": {},
     "output_type": "execute_result"
    }
   ],
   "source": [
    "math.pi"
   ]
  },
  {
   "cell_type": "code",
   "execution_count": 3,
   "id": "45d297ee",
   "metadata": {},
   "outputs": [
    {
     "name": "stdout",
     "output_type": "stream",
     "text": [
      "4\n"
     ]
    }
   ],
   "source": [
    "num = math.ceil(3.4)\n",
    "print(num)"
   ]
  },
  {
   "cell_type": "code",
   "execution_count": 5,
   "id": "15358c8d",
   "metadata": {},
   "outputs": [
    {
     "name": "stdout",
     "output_type": "stream",
     "text": [
      "1\n"
     ]
    }
   ],
   "source": [
    "num = math.ceil(1.0)\n",
    "print(num)"
   ]
  },
  {
   "cell_type": "code",
   "execution_count": 6,
   "id": "899cb12b",
   "metadata": {},
   "outputs": [
    {
     "name": "stdout",
     "output_type": "stream",
     "text": [
      "4\n"
     ]
    }
   ],
   "source": [
    "num1 = math.floor(4.6)\n",
    "print(num1)"
   ]
  },
  {
   "cell_type": "code",
   "execution_count": 7,
   "id": "06d7bff9",
   "metadata": {},
   "outputs": [],
   "source": [
    "import math as m"
   ]
  },
  {
   "cell_type": "code",
   "execution_count": 9,
   "id": "7c9c9e10",
   "metadata": {},
   "outputs": [
    {
     "name": "stdout",
     "output_type": "stream",
     "text": [
      "Collecting pymongo\n",
      "  Downloading pymongo-4.8.0-cp39-cp39-win_amd64.whl (533 kB)\n",
      "     -------------------------------------- 533.1/533.1 kB 3.4 MB/s eta 0:00:00\n",
      "Collecting dnspython<3.0.0,>=1.16.0\n",
      "  Downloading dnspython-2.6.1-py3-none-any.whl (307 kB)\n",
      "     -------------------------------------- 307.7/307.7 kB 2.7 MB/s eta 0:00:00\n",
      "Installing collected packages: dnspython, pymongo\n",
      "Successfully installed dnspython-2.6.1 pymongo-4.8.0\n"
     ]
    }
   ],
   "source": [
    "!pip install pymongo"
   ]
  },
  {
   "cell_type": "code",
   "execution_count": 10,
   "id": "54131b4b",
   "metadata": {},
   "outputs": [],
   "source": [
    "import pymongo as py"
   ]
  },
  {
   "cell_type": "code",
   "execution_count": 11,
   "id": "5d7f7d9b",
   "metadata": {},
   "outputs": [],
   "source": [
    "import sklearn"
   ]
  },
  {
   "cell_type": "code",
   "execution_count": 12,
   "id": "fa0f05e4",
   "metadata": {},
   "outputs": [],
   "source": [
    "import mylib as ml"
   ]
  },
  {
   "cell_type": "code",
   "execution_count": 14,
   "id": "6abfb6dc",
   "metadata": {},
   "outputs": [
    {
     "data": {
      "text/plain": [
       "7"
      ]
     },
     "execution_count": 14,
     "metadata": {},
     "output_type": "execute_result"
    }
   ],
   "source": [
    "ml.add(3,4)"
   ]
  },
  {
   "cell_type": "markdown",
   "id": "7412d6f2",
   "metadata": {},
   "source": [
    "# Created own Library using the calculator code"
   ]
  },
  {
   "cell_type": "code",
   "execution_count": 16,
   "id": "919cdfcd",
   "metadata": {},
   "outputs": [],
   "source": [
    "import calculator as cl"
   ]
  },
  {
   "cell_type": "code",
   "execution_count": 17,
   "id": "57548c22",
   "metadata": {},
   "outputs": [
    {
     "data": {
      "text/plain": [
       "20"
      ]
     },
     "execution_count": 17,
     "metadata": {},
     "output_type": "execute_result"
    }
   ],
   "source": [
    "cl.multiplication(4,5)"
   ]
  },
  {
   "cell_type": "code",
   "execution_count": null,
   "id": "cb0dfd1c",
   "metadata": {},
   "outputs": [],
   "source": []
  }
 ],
 "metadata": {
  "kernelspec": {
   "display_name": "Python 3 (ipykernel)",
   "language": "python",
   "name": "python3"
  },
  "language_info": {
   "codemirror_mode": {
    "name": "ipython",
    "version": 3
   },
   "file_extension": ".py",
   "mimetype": "text/x-python",
   "name": "python",
   "nbconvert_exporter": "python",
   "pygments_lexer": "ipython3",
   "version": "3.9.13"
  }
 },
 "nbformat": 4,
 "nbformat_minor": 5
}
