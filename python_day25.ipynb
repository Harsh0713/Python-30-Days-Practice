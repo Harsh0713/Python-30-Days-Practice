{
 "cells": [
  {
   "cell_type": "markdown",
   "id": "1391df32",
   "metadata": {},
   "source": [
    "# GUI"
   ]
  },
  {
   "cell_type": "code",
   "execution_count": 20,
   "id": "5aa1035c",
   "metadata": {},
   "outputs": [],
   "source": [
    "from tkinter import *\n",
    "from tkinter import ttk"
   ]
  },
  {
   "cell_type": "code",
   "execution_count": 22,
   "id": "7ad3935c",
   "metadata": {},
   "outputs": [],
   "source": [
    "interface = Tk()\n",
    "import time\n",
    "def start_progress():\n",
    "    progress.start()\n",
    "    for i in range(101):\n",
    "        time.sleep(0.05)\n",
    "        progress['value'] = i\n",
    "        interface.update_idletasks()\n",
    "    progress.stop()\n",
    "\n",
    "progress = ttk.Progressbar(interface, orient = 'horizontal', length = \"200\", mode = \"determinate\")\n",
    "progress.pack(pady = 20)\n",
    "\n",
    "start_button = Button(interface, text = \"Start Progress\", command = start_progress)\n",
    "start_button.pack()\n",
    "\n",
    "#Menu\n",
    "menu = Menu(interface)\n",
    "interface.config(menu = menu)\n",
    "filemenu = Menu(menu)\n",
    "menu.add_cascade(label = 'Insert', menu = filemenu)\n",
    "filemenu.add_command(label = 'New')\n",
    "filemenu.add_command(label = 'Exit')\n",
    "file2menu = Menu(menu)\n",
    "#filemenu.add_seperator()\n",
    "menu.add_cascade(label = 'File', menu = filemenu)\n",
    "file2menu.add_command(label = 'Save')\n",
    "file2menu.add_command(label = 'Exit')\n",
    "#filemenu.add_seperator()\n",
    "\n",
    "#ScrollBar\n",
    "scroll = Scrollbar(interface)\n",
    "scroll.pack(side = RIGHT, fill = Y)\n",
    "\n",
    "#Label - For inserting text\n",
    "hello_world = Label(interface, text = \"Hello, Harsh\")\n",
    "hello_world.pack()\n",
    "\n",
    "#Button - for inserting a button\n",
    "button = Button(interface, text = \"Enter\")\n",
    "button.pack()\n",
    "\n",
    "#Enter - for taking inputs\n",
    "entry = Entry(interface)\n",
    "entry.pack()\n",
    "\n",
    "#Checkbutton- For checklist\n",
    "check1 = Checkbutton(interface, text = \"Student\")\n",
    "check1.pack()\n",
    "check2 = Checkbutton(interface, text = \"Teacher\")\n",
    "check2.pack()\n",
    "\n",
    "#Radio button\n",
    "v1 = IntVar()\n",
    "v2 = IntVar()\n",
    "radio1 = Radiobutton(interface, text = \"Small\", variable = v1)\n",
    "radio1.pack()\n",
    "radio2 = Radiobutton(interface, text = \"Big\", variable = v2)\n",
    "radio2.pack()\n",
    "\n",
    "#Listbox - For maintaining list\n",
    "lb = Listbox(interface)\n",
    "lb.insert(1, \"Krishiv\")\n",
    "lb.insert(2, \"Sneha\")\n",
    "lb.insert(3, \"Sameer\")\n",
    "lb.pack()\n",
    "\n",
    "\n",
    "interface.mainloop()"
   ]
  },
  {
   "cell_type": "code",
   "execution_count": null,
   "id": "10457b95",
   "metadata": {},
   "outputs": [],
   "source": []
  }
 ],
 "metadata": {
  "kernelspec": {
   "display_name": "Python 3 (ipykernel)",
   "language": "python",
   "name": "python3"
  },
  "language_info": {
   "codemirror_mode": {
    "name": "ipython",
    "version": 3
   },
   "file_extension": ".py",
   "mimetype": "text/x-python",
   "name": "python",
   "nbconvert_exporter": "python",
   "pygments_lexer": "ipython3",
   "version": "3.9.13"
  }
 },
 "nbformat": 4,
 "nbformat_minor": 5
}
