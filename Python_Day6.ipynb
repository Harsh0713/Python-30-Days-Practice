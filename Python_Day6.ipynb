{
 "cells": [
  {
   "cell_type": "markdown",
   "id": "486809a1",
   "metadata": {},
   "source": [
    "# Error Handling (try and except)"
   ]
  },
  {
   "cell_type": "code",
   "execution_count": 56,
   "id": "f7c2d8f4",
   "metadata": {},
   "outputs": [
    {
     "ename": "IndentationError",
     "evalue": "expected an indented block (2187414712.py, line 94)",
     "output_type": "error",
     "traceback": [
      "\u001b[1;36m  File \u001b[1;32m\"C:\\Users\\harsh\\AppData\\Local\\Temp\\ipykernel_33516\\2187414712.py\"\u001b[1;36m, line \u001b[1;32m94\u001b[0m\n\u001b[1;33m    print(\"Error! Division by zero is not possible. Enter valid input\")\u001b[0m\n\u001b[1;37m    ^\u001b[0m\n\u001b[1;31mIndentationError\u001b[0m\u001b[1;31m:\u001b[0m expected an indented block\n"
     ]
    }
   ],
   "source": [
    "def add(num1, num2):\n",
    "    return num1 + num2\n",
    "\n",
    "def subtraction(num1, num2):\n",
    "    return abs(num1-num2)\n",
    "\n",
    "def multiplication(num1, num2):\n",
    "    return num1*num2\n",
    "\n",
    "def integer_division(num1, num2):\n",
    "    return num1//num2\n",
    "\n",
    "def float_division(num1, num2):\n",
    "    return num1/num2\n",
    "\n",
    "def mod(num1, num2):\n",
    "    return num1%num2\n",
    "\n",
    "def percentage(num1, num2):\n",
    "    return (num1/num2) * 100\n",
    "\n",
    "def power(num1, num2):\n",
    "    return num1**num2\n",
    "\n",
    "def factorial(num1):\n",
    "    if num1==0:\n",
    "        return 1\n",
    "    return num1 * factorial(num-1)\n",
    "\n",
    "def calculator():\n",
    "    try:\n",
    "        user_input = int(input(\"Please Enter the number associated with your operation -\\n\" \n",
    "                         \"1. Addition -\\n\" \n",
    "                         \"2. Subtraction -\\n\"  \n",
    "                         \"3. Multiplication -\\n\" \n",
    "                         \"4. Integer Division -\\n\" \n",
    "                         \"5. Float Division -\\n\" \n",
    "                         \"6. Modulus -\\n\" \n",
    "                         \"7. Percentage -\\n\" \n",
    "                         \"8. Power -\\n\" \n",
    "                         \"9. Factorial -\\n\"\n",
    "                              \" \"))\n",
    "    except:\n",
    "            print(\"Bad input - Please enter again\")\n",
    "            user_input = int(input(\"Please Enter the number associated with your operation -\\n\" \n",
    "                         \"1. Addition -\\n\" \n",
    "                         \"2. Subtraction -\\n\"  \n",
    "                         \"3. Multiplication -\\n\" \n",
    "                         \"4. Integer Division -\\n\" \n",
    "                         \"5. Float Division -\\n\" \n",
    "                         \"6. Modulus -\\n\" \n",
    "                         \"7. Percentage -\\n\" \n",
    "                         \"8. Power -\\n\" \n",
    "                         \"9. Factorial -\\n\"\n",
    "                              \" \"))\n",
    "    \n",
    "    if user_input == 1:\n",
    "        try:\n",
    "            num1, num2 = input(\"Enter 2 numbers \").split()\n",
    "            num1, num2 = int(num1),int(num2)\n",
    "        except Exception as e:\n",
    "            print(\"Exception occures -\", e)\n",
    "            print(\"Bad input - Please enter again\")\n",
    "            num1, num2 = input(\"Enter 2 numbers \").split()\n",
    "            num1, num2 = int(num1),int(num2)\n",
    "        finally:\n",
    "            print(\"Please enter correct value\")\n",
    "            calculator()\n",
    "            print(\"Solution is\", add(num1, num2))\n",
    "    elif user_input == 2:\n",
    "        try:\n",
    "            num1, num2 = input(\"Enter 2 numbers \").split()\n",
    "            num1, num2 = int(num1),int(num2)\n",
    "        except Exception as e:\n",
    "            print(\"Exception occures -\", e)\n",
    "            print(\"Bad input - Please enter again\")\n",
    "            num1, num2 = input(\"Enter 2 numbers \").split()\n",
    "            num1, num2 = int(num1),int(num2)\n",
    "            print(\"Solution is\",subtraction(num1, num2))\n",
    "    elif user_input == 3:\n",
    "        try:\n",
    "            num1, num2 = input(\"Enter 2 numbers \").split()\n",
    "            num1, num2 = int(num1),int(num2)\n",
    "        except Exception as e:\n",
    "            print(\"Exception occures -\", e)\n",
    "            print(\"Bad input - Please enter again\")\n",
    "            num1, num2 = input(\"Enter 2 numbers \").split()\n",
    "            num1, num2 = int(num1),int(num2)\n",
    "            print(\"Solution is\",multiplication(num1, num2))\n",
    "            \n",
    "            #Try and except pending from here as was getting error in it\n",
    "            \n",
    "    elif user_input == 4:\n",
    "        num1, num2 = input(\"Enter 2 numbers - dividend and divisior respectively \").split()\n",
    "        num1, num2 = int(num1),int(num2)\n",
    "        if num2 ==0:\n",
    "        print(\"Error! Division by zero is not possible. Enter valid input\")\n",
    "        calculator()\n",
    "        print(\"Solution is\",integer_division(num1, num2))\n",
    "\n",
    "\n",
    "    elif user_input == 5:\n",
    "        num1, num2 = input(\"Enter 2 numbers - dividend and divisor respectively \").split()\n",
    "        num1, num2 = int(num1),int(num2)\n",
    "        if num2 ==0:\n",
    "            print(\"Error! Division by zero is not possible. Enter valid input\")\n",
    "            calculator()\n",
    "        print(\"Solution is\",float_division(num1, num2))\n",
    "    elif user_input == 6:\n",
    "        num1, num2 = input(\"Enter 2 numbers - dividend and divisor respectively \").split()\n",
    "        if num2 ==0:\n",
    "            print(\"Error! Division by zero is not possible. Enter valid input\")\n",
    "            calculator()\n",
    "        num1, num2 = int(num1),int(num2)\n",
    "        print(\"Solution is\",mod(num1, num2))  \n",
    "    elif user_input == 7:\n",
    "        num1, num2 = input(\"Enter number whose percentage you want to get followed by the bigger number \").split()\n",
    "        num1, num2 = int(num1),int(num2)\n",
    "        if num2 ==0:\n",
    "            print(\"Error! Division by zero is not possible. Enter valid input\")\n",
    "            calculator()\n",
    "        print(\"Solution is\",percentage(num1, num2))\n",
    "    elif user_input == 8:\n",
    "        num1, num2 = input(\"Enter 2 numbers - Base and power respectively \").split()\n",
    "        num1, num2 = int(num1),int(num2)\n",
    "        print(\"Solution is\",power(num1, num2))\n",
    "    elif user_input == 9:\n",
    "        num1 = int(input(\"Enter number \"))\n",
    "        print(\"Solution is\",factorial(num1))\n",
    "    else:\n",
    "        print(\"Please Enter a value \")\n",
    "        \n",
    "        calculator()\n",
    "         "
   ]
  },
  {
   "cell_type": "code",
   "execution_count": null,
   "id": "bdf4f34f",
   "metadata": {},
   "outputs": [],
   "source": [
    " calculator()"
   ]
  },
  {
   "cell_type": "code",
   "execution_count": null,
   "id": "18dd950f",
   "metadata": {},
   "outputs": [],
   "source": [
    "try:\n",
    "    url = api.get(\"trailer\")\n",
    "except:\n",
    "    url = \"NA\"\n",
    "    "
   ]
  },
  {
   "cell_type": "markdown",
   "id": "b7412278",
   "metadata": {},
   "source": [
    "# PDB Library"
   ]
  },
  {
   "cell_type": "code",
   "execution_count": 27,
   "id": "598d51f9",
   "metadata": {},
   "outputs": [
    {
     "name": "stdout",
     "output_type": "stream",
     "text": [
      "25\n",
      "--Return--\n",
      "None\n",
      "> \u001b[1;32mc:\\users\\harsh\\appdata\\local\\temp\\ipykernel_33516\\1240923857.py\u001b[0m(2)\u001b[0;36m<module>\u001b[1;34m()\u001b[0m\n",
      "\n",
      "--KeyboardInterrupt--\n",
      "\n",
      "KeyboardInterrupt: Interrupted by user\n",
      "50\n"
     ]
    }
   ],
   "source": [
    "number = input()\n",
    "import pdb; pdb.set_trace()\n",
    "print(int(number) + 25)"
   ]
  },
  {
   "cell_type": "code",
   "execution_count": null,
   "id": "52998024",
   "metadata": {},
   "outputs": [],
   "source": []
  }
 ],
 "metadata": {
  "kernelspec": {
   "display_name": "Python 3 (ipykernel)",
   "language": "python",
   "name": "python3"
  },
  "language_info": {
   "codemirror_mode": {
    "name": "ipython",
    "version": 3
   },
   "file_extension": ".py",
   "mimetype": "text/x-python",
   "name": "python",
   "nbconvert_exporter": "python",
   "pygments_lexer": "ipython3",
   "version": "3.9.13"
  }
 },
 "nbformat": 4,
 "nbformat_minor": 5
}
