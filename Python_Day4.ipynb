{
 "cells": [
  {
   "cell_type": "markdown",
   "id": "ac467aeb",
   "metadata": {},
   "source": [
    "# Function\n",
    "\n",
    "1. Function is a Machine\n",
    "\n",
    "2. It takes an argument, it processes by the given block of code inside it and return a value or modify the existing value"
   ]
  },
  {
   "cell_type": "markdown",
   "id": "32d94ca6",
   "metadata": {},
   "source": [
    "# Function is of 2 types:\n",
    "\n",
    "1. In built\n",
    "\n",
    "2. User Defined"
   ]
  },
  {
   "cell_type": "code",
   "execution_count": 1,
   "id": "4c76e518",
   "metadata": {},
   "outputs": [
    {
     "data": {
      "text/plain": [
       "[1, 2, 3, 4, 5, 6, 7, 8, 9]"
      ]
     },
     "execution_count": 1,
     "metadata": {},
     "output_type": "execute_result"
    }
   ],
   "source": [
    "sorted([1,3,6,2,5,7,8,4,9])"
   ]
  },
  {
   "cell_type": "code",
   "execution_count": 3,
   "id": "f9028b56",
   "metadata": {},
   "outputs": [
    {
     "name": "stdout",
     "output_type": "stream",
     "text": [
      "[1, 2, 4, 5, 8]   20   [4, 5, 1, 2, 8, 10]\n"
     ]
    }
   ],
   "source": [
    "#In Built\n",
    "\n",
    "my_list = [4,5,1,2,8]\n",
    "\n",
    "sorted_list = sorted(my_list)\n",
    "sum_of_list = sum(my_list)\n",
    "my_list.append(10)\n",
    "\n",
    "print(sorted_list, \" \", sum_of_list, \" \", my_list)"
   ]
  },
  {
   "cell_type": "code",
   "execution_count": 7,
   "id": "3e33bd08",
   "metadata": {},
   "outputs": [
    {
     "name": "stdout",
     "output_type": "stream",
     "text": [
      "15\n"
     ]
    }
   ],
   "source": [
    "var_1 = 7\n",
    "var_2 = 8\n",
    "\n",
    "sum_of_variables = var_1 + var_2\n",
    "print(sum_of_variables)"
   ]
  },
  {
   "cell_type": "code",
   "execution_count": 10,
   "id": "012e9336",
   "metadata": {},
   "outputs": [],
   "source": [
    "#User defined function\n",
    "\n",
    "def add(x1,x2):                #Function definition, input\n",
    "    addition = x1+x2           #Process\n",
    "    return addition            #Output"
   ]
  },
  {
   "cell_type": "code",
   "execution_count": 11,
   "id": "6347500c",
   "metadata": {},
   "outputs": [
    {
     "data": {
      "text/plain": [
       "11"
      ]
     },
     "execution_count": 11,
     "metadata": {},
     "output_type": "execute_result"
    }
   ],
   "source": [
    "add(5,6)"
   ]
  },
  {
   "cell_type": "code",
   "execution_count": 18,
   "id": "d3754674",
   "metadata": {},
   "outputs": [
    {
     "data": {
      "text/plain": [
       "166"
      ]
     },
     "execution_count": 18,
     "metadata": {},
     "output_type": "execute_result"
    }
   ],
   "source": [
    "add(76,90)"
   ]
  },
  {
   "cell_type": "markdown",
   "id": "dccc17c6",
   "metadata": {},
   "source": [
    "# Reverse a string"
   ]
  },
  {
   "cell_type": "code",
   "execution_count": 14,
   "id": "cb0b7e94",
   "metadata": {},
   "outputs": [],
   "source": [
    "#Write a function to reverse a string\n",
    "\n",
    "def rev(string):\n",
    "    R = string[::-1]\n",
    "    return R\n",
    "    "
   ]
  },
  {
   "cell_type": "code",
   "execution_count": 15,
   "id": "59921ec1",
   "metadata": {},
   "outputs": [
    {
     "data": {
      "text/plain": [
       "'hsraH'"
      ]
     },
     "execution_count": 15,
     "metadata": {},
     "output_type": "execute_result"
    }
   ],
   "source": [
    "rev(\"Harsh\")"
   ]
  },
  {
   "cell_type": "code",
   "execution_count": 16,
   "id": "4b298939",
   "metadata": {},
   "outputs": [],
   "source": [
    "def reverse(x):\n",
    "    return x[::-1]"
   ]
  },
  {
   "cell_type": "code",
   "execution_count": 17,
   "id": "65c7f6bd",
   "metadata": {},
   "outputs": [
    {
     "data": {
      "text/plain": [
       "'olleH'"
      ]
     },
     "execution_count": 17,
     "metadata": {},
     "output_type": "execute_result"
    }
   ],
   "source": [
    "reverse(\"Hello\")"
   ]
  },
  {
   "cell_type": "markdown",
   "id": "0f155f3d",
   "metadata": {},
   "source": [
    "# Factorial using FOR loop"
   ]
  },
  {
   "cell_type": "code",
   "execution_count": 27,
   "id": "668ecf31",
   "metadata": {},
   "outputs": [],
   "source": [
    "def factorial(num):        #1 * 2 * 3 * 4 * 5 * 6\n",
    "    fact = 1\n",
    "    for i in range(1,num+1):\n",
    "        fact = fact*i\n",
    "    return fact"
   ]
  },
  {
   "cell_type": "code",
   "execution_count": 28,
   "id": "7b0f4266",
   "metadata": {},
   "outputs": [
    {
     "data": {
      "text/plain": [
       "40320"
      ]
     },
     "execution_count": 28,
     "metadata": {},
     "output_type": "execute_result"
    }
   ],
   "source": [
    "factorial(8)"
   ]
  },
  {
   "cell_type": "code",
   "execution_count": 29,
   "id": "67c5e6fc",
   "metadata": {},
   "outputs": [
    {
     "data": {
      "text/plain": [
       "5040"
      ]
     },
     "execution_count": 29,
     "metadata": {},
     "output_type": "execute_result"
    }
   ],
   "source": [
    "factorial(7)"
   ]
  },
  {
   "cell_type": "markdown",
   "id": "8f94ecc7",
   "metadata": {},
   "source": [
    "# Factorial using Recursion Function"
   ]
  },
  {
   "cell_type": "code",
   "execution_count": 30,
   "id": "dd21c023",
   "metadata": {},
   "outputs": [],
   "source": [
    "def factorial_rec(num):           #1 * 2 * 3 * 4 * 5 * 6\n",
    "    if num == 0:\n",
    "        return 1\n",
    "    num = num * factorial_rec(num-1)\n",
    "    return num"
   ]
  },
  {
   "cell_type": "code",
   "execution_count": 31,
   "id": "4d44eaa1",
   "metadata": {},
   "outputs": [
    {
     "data": {
      "text/plain": [
       "720"
      ]
     },
     "execution_count": 31,
     "metadata": {},
     "output_type": "execute_result"
    }
   ],
   "source": [
    "factorial_rec(6)"
   ]
  },
  {
   "cell_type": "code",
   "execution_count": 32,
   "id": "0d8ce086",
   "metadata": {},
   "outputs": [
    {
     "data": {
      "text/plain": [
       "40320"
      ]
     },
     "execution_count": 32,
     "metadata": {},
     "output_type": "execute_result"
    }
   ],
   "source": [
    "factorial_rec(8)"
   ]
  },
  {
   "cell_type": "code",
   "execution_count": 33,
   "id": "4d6712d6",
   "metadata": {},
   "outputs": [],
   "source": [
    "#Create a function to check if the number is palindrome\n",
    "\n",
    "def palindrome_rec(string):\n",
    "  if len(string) < 2:\n",
    "    return True\n",
    "  if string[0] != string[-1]:\n",
    "    return False\n",
    "  return palindrome_rec(string[1:-1])"
   ]
  },
  {
   "cell_type": "code",
   "execution_count": 35,
   "id": "1e0a3b8e",
   "metadata": {},
   "outputs": [
    {
     "data": {
      "text/plain": [
       "False"
      ]
     },
     "execution_count": 35,
     "metadata": {},
     "output_type": "execute_result"
    }
   ],
   "source": [
    "palindrome_rec(\"harsh\")"
   ]
  },
  {
   "cell_type": "code",
   "execution_count": null,
   "id": "dae49ce3",
   "metadata": {},
   "outputs": [],
   "source": []
  }
 ],
 "metadata": {
  "kernelspec": {
   "display_name": "Python 3 (ipykernel)",
   "language": "python",
   "name": "python3"
  },
  "language_info": {
   "codemirror_mode": {
    "name": "ipython",
    "version": 3
   },
   "file_extension": ".py",
   "mimetype": "text/x-python",
   "name": "python",
   "nbconvert_exporter": "python",
   "pygments_lexer": "ipython3",
   "version": "3.9.13"
  }
 },
 "nbformat": 4,
 "nbformat_minor": 5
}
