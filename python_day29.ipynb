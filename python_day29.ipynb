{
 "cells": [
  {
   "cell_type": "markdown",
   "id": "88012d02",
   "metadata": {
    "papermill": {
     "duration": 0.011945,
     "end_time": "2024-05-28T04:10:44.895990",
     "exception": false,
     "start_time": "2024-05-28T04:10:44.884045",
     "status": "completed"
    },
    "tags": []
   },
   "source": [
    "In this analysis,I explore the unique features, traits, and behaviors of different dog breeds. This data helps us understand the special qualities that make each breed stand out, giving us knowledge while preferring a particular dog breed as their pet."
   ]
  },
  {
   "cell_type": "code",
   "execution_count": 3,
   "id": "bca39a76",
   "metadata": {
    "_cell_guid": "b1076dfc-b9ad-4769-8c92-a6c4dae69d19",
    "_uuid": "8f2839f25d086af736a60e9eeb907d3b93b6e0e5",
    "execution": {
     "iopub.execute_input": "2024-05-28T04:10:44.946381Z",
     "iopub.status.busy": "2024-05-28T04:10:44.945908Z",
     "iopub.status.idle": "2024-05-28T04:10:48.480701Z",
     "shell.execute_reply": "2024-05-28T04:10:48.479435Z"
    },
    "papermill": {
     "duration": 3.551722,
     "end_time": "2024-05-28T04:10:48.483956",
     "exception": false,
     "start_time": "2024-05-28T04:10:44.932234",
     "status": "completed"
    },
    "tags": []
   },
   "outputs": [],
   "source": [
    "import numpy as np \n",
    "import pandas as pd\n",
    "import matplotlib.pyplot as plt\n",
    "import seaborn as sns\n",
    "from sklearn.linear_model import LinearRegression"
   ]
  },
  {
   "cell_type": "code",
   "execution_count": 4,
   "id": "7bc53c13",
   "metadata": {},
   "outputs": [
    {
     "name": "stdout",
     "output_type": "stream",
     "text": [
      "Requirement already satisfied: seaborn in c:\\users\\harsh\\anaconda3\\lib\\site-packages (0.11.2)\n",
      "Requirement already satisfied: scikit-learn in c:\\users\\harsh\\anaconda3\\lib\\site-packages (1.0.2)\n",
      "Requirement already satisfied: pandas>=0.23 in c:\\users\\harsh\\anaconda3\\lib\\site-packages (from seaborn) (1.4.4)\n",
      "Requirement already satisfied: matplotlib>=2.2 in c:\\users\\harsh\\anaconda3\\lib\\site-packages (from seaborn) (3.5.2)\n",
      "Requirement already satisfied: numpy>=1.15 in c:\\users\\harsh\\anaconda3\\lib\\site-packages (from seaborn) (1.21.5)\n",
      "Requirement already satisfied: scipy>=1.0 in c:\\users\\harsh\\anaconda3\\lib\\site-packages (from seaborn) (1.9.1)\n",
      "Requirement already satisfied: threadpoolctl>=2.0.0 in c:\\users\\harsh\\anaconda3\\lib\\site-packages (from scikit-learn) (2.2.0)\n",
      "Requirement already satisfied: joblib>=0.11 in c:\\users\\harsh\\anaconda3\\lib\\site-packages (from scikit-learn) (1.1.0)\n",
      "Requirement already satisfied: cycler>=0.10 in c:\\users\\harsh\\anaconda3\\lib\\site-packages (from matplotlib>=2.2->seaborn) (0.11.0)\n",
      "Requirement already satisfied: fonttools>=4.22.0 in c:\\users\\harsh\\anaconda3\\lib\\site-packages (from matplotlib>=2.2->seaborn) (4.25.0)\n",
      "Requirement already satisfied: kiwisolver>=1.0.1 in c:\\users\\harsh\\anaconda3\\lib\\site-packages (from matplotlib>=2.2->seaborn) (1.4.2)\n",
      "Requirement already satisfied: packaging>=20.0 in c:\\users\\harsh\\anaconda3\\lib\\site-packages (from matplotlib>=2.2->seaborn) (21.3)\n",
      "Requirement already satisfied: pillow>=6.2.0 in c:\\users\\harsh\\anaconda3\\lib\\site-packages (from matplotlib>=2.2->seaborn) (9.2.0)\n",
      "Requirement already satisfied: pyparsing>=2.2.1 in c:\\users\\harsh\\anaconda3\\lib\\site-packages (from matplotlib>=2.2->seaborn) (3.0.9)\n",
      "Requirement already satisfied: python-dateutil>=2.7 in c:\\users\\harsh\\anaconda3\\lib\\site-packages (from matplotlib>=2.2->seaborn) (2.8.2)\n",
      "Requirement already satisfied: pytz>=2020.1 in c:\\users\\harsh\\anaconda3\\lib\\site-packages (from pandas>=0.23->seaborn) (2022.1)\n",
      "Requirement already satisfied: six>=1.5 in c:\\users\\harsh\\anaconda3\\lib\\site-packages (from python-dateutil>=2.7->matplotlib>=2.2->seaborn) (1.16.0)\n",
      "Note: you may need to restart the kernel to use updated packages.\n"
     ]
    }
   ],
   "source": [
    "pip install seaborn scikit-learn"
   ]
  },
  {
   "cell_type": "code",
   "execution_count": 5,
   "id": "9faeb529",
   "metadata": {
    "execution": {
     "iopub.execute_input": "2024-05-28T04:10:48.508980Z",
     "iopub.status.busy": "2024-05-28T04:10:48.508382Z",
     "iopub.status.idle": "2024-05-28T04:10:48.543256Z",
     "shell.execute_reply": "2024-05-28T04:10:48.542069Z"
    },
    "papermill": {
     "duration": 0.04998,
     "end_time": "2024-05-28T04:10:48.545612",
     "exception": false,
     "start_time": "2024-05-28T04:10:48.495632",
     "status": "completed"
    },
    "tags": []
   },
   "outputs": [
    {
     "data": {
      "text/plain": [
       "(87, 19)"
      ]
     },
     "execution_count": 5,
     "metadata": {},
     "output_type": "execute_result"
    }
   ],
   "source": [
    "df = pd.read_csv('dogs-ranking-dataset.csv')\n",
    "df.shape"
   ]
  },
  {
   "cell_type": "code",
   "execution_count": 6,
   "id": "6199354c",
   "metadata": {
    "execution": {
     "iopub.execute_input": "2024-05-28T04:10:48.594330Z",
     "iopub.status.busy": "2024-05-28T04:10:48.593906Z",
     "iopub.status.idle": "2024-05-28T04:10:48.629778Z",
     "shell.execute_reply": "2024-05-28T04:10:48.628618Z"
    },
    "papermill": {
     "duration": 0.051383,
     "end_time": "2024-05-28T04:10:48.632275",
     "exception": false,
     "start_time": "2024-05-28T04:10:48.580892",
     "status": "completed"
    },
    "tags": []
   },
   "outputs": [
    {
     "data": {
      "text/html": [
       "<div>\n",
       "<style scoped>\n",
       "    .dataframe tbody tr th:only-of-type {\n",
       "        vertical-align: middle;\n",
       "    }\n",
       "\n",
       "    .dataframe tbody tr th {\n",
       "        vertical-align: top;\n",
       "    }\n",
       "\n",
       "    .dataframe thead th {\n",
       "        text-align: right;\n",
       "    }\n",
       "</style>\n",
       "<table border=\"1\" class=\"dataframe\">\n",
       "  <thead>\n",
       "    <tr style=\"text-align: right;\">\n",
       "      <th></th>\n",
       "      <th>Breed</th>\n",
       "      <th>type</th>\n",
       "      <th>score</th>\n",
       "      <th>popularity ranking</th>\n",
       "      <th>size</th>\n",
       "      <th>intelligence</th>\n",
       "      <th>congential ailments</th>\n",
       "      <th>score for kids</th>\n",
       "      <th>size.1</th>\n",
       "      <th>$LIFETIME COST</th>\n",
       "      <th>INTELLIGENCE RANK</th>\n",
       "      <th>INTELLIGENCE %</th>\n",
       "      <th>LONGEVITY(YEARS)</th>\n",
       "      <th>NUMBER OF GENETIC AILMENTS</th>\n",
       "      <th>GENETIC AILMENTS</th>\n",
       "      <th>PURCHASE PRICE</th>\n",
       "      <th>FOOD COSTS PER YEAR</th>\n",
       "      <th>GROOMING FREQUNCY</th>\n",
       "      <th>SUITABILITY FOR CHILDREN</th>\n",
       "    </tr>\n",
       "  </thead>\n",
       "  <tbody>\n",
       "    <tr>\n",
       "      <th>0</th>\n",
       "      <td>Border Terrier</td>\n",
       "      <td>terrier</td>\n",
       "      <td>3.61</td>\n",
       "      <td>61</td>\n",
       "      <td>1</td>\n",
       "      <td>Above average</td>\n",
       "      <td>none</td>\n",
       "      <td>4.99</td>\n",
       "      <td>small</td>\n",
       "      <td>$22,638</td>\n",
       "      <td>30</td>\n",
       "      <td>70%</td>\n",
       "      <td>14.00</td>\n",
       "      <td>0</td>\n",
       "      <td>none</td>\n",
       "      <td>$833</td>\n",
       "      <td>$324</td>\n",
       "      <td>Once a week</td>\n",
       "      <td>1</td>\n",
       "    </tr>\n",
       "    <tr>\n",
       "      <th>1</th>\n",
       "      <td>Cairn Terrier</td>\n",
       "      <td>terrier</td>\n",
       "      <td>3.53</td>\n",
       "      <td>48</td>\n",
       "      <td>1</td>\n",
       "      <td>Above average</td>\n",
       "      <td>'lion jaw', heart problems</td>\n",
       "      <td>4.91</td>\n",
       "      <td>small</td>\n",
       "      <td>$21,992</td>\n",
       "      <td>35</td>\n",
       "      <td>61%</td>\n",
       "      <td>13.84</td>\n",
       "      <td>2</td>\n",
       "      <td>'lion jaw', heart problems</td>\n",
       "      <td>$435</td>\n",
       "      <td>$324</td>\n",
       "      <td>Once a week</td>\n",
       "      <td>1</td>\n",
       "    </tr>\n",
       "    <tr>\n",
       "      <th>2</th>\n",
       "      <td>Siberian Husky</td>\n",
       "      <td>working</td>\n",
       "      <td>3.22</td>\n",
       "      <td>16</td>\n",
       "      <td>2</td>\n",
       "      <td>Average</td>\n",
       "      <td>none</td>\n",
       "      <td>4.72</td>\n",
       "      <td>medium</td>\n",
       "      <td>$22,049</td>\n",
       "      <td>45</td>\n",
       "      <td>45%</td>\n",
       "      <td>12.58</td>\n",
       "      <td>0</td>\n",
       "      <td>none</td>\n",
       "      <td>$650</td>\n",
       "      <td>$466</td>\n",
       "      <td>Once in a few weeks</td>\n",
       "      <td>1</td>\n",
       "    </tr>\n",
       "    <tr>\n",
       "      <th>3</th>\n",
       "      <td>Welsh Springer Spaniel</td>\n",
       "      <td>sporting</td>\n",
       "      <td>3.34</td>\n",
       "      <td>81</td>\n",
       "      <td>2</td>\n",
       "      <td>Above average</td>\n",
       "      <td>hip problems</td>\n",
       "      <td>4.71</td>\n",
       "      <td>medium</td>\n",
       "      <td>$20,224</td>\n",
       "      <td>31</td>\n",
       "      <td>69%</td>\n",
       "      <td>12.49</td>\n",
       "      <td>1</td>\n",
       "      <td>hip problems</td>\n",
       "      <td>$750</td>\n",
       "      <td>$324</td>\n",
       "      <td>Once a week</td>\n",
       "      <td>1</td>\n",
       "    </tr>\n",
       "    <tr>\n",
       "      <th>4</th>\n",
       "      <td>English Cocker Spaniel</td>\n",
       "      <td>sporting</td>\n",
       "      <td>3.33</td>\n",
       "      <td>51</td>\n",
       "      <td>2</td>\n",
       "      <td>Excellent</td>\n",
       "      <td>none</td>\n",
       "      <td>4.70</td>\n",
       "      <td>medium</td>\n",
       "      <td>$18,993</td>\n",
       "      <td>18</td>\n",
       "      <td>82%</td>\n",
       "      <td>11.66</td>\n",
       "      <td>0</td>\n",
       "      <td>none</td>\n",
       "      <td>$800</td>\n",
       "      <td>$324</td>\n",
       "      <td>Once a week</td>\n",
       "      <td>1</td>\n",
       "    </tr>\n",
       "  </tbody>\n",
       "</table>\n",
       "</div>"
      ],
      "text/plain": [
       "                    Breed      type  score  popularity ranking  size  \\\n",
       "0          Border Terrier   terrier   3.61                  61     1   \n",
       "1           Cairn Terrier   terrier   3.53                  48     1   \n",
       "2          Siberian Husky   working   3.22                  16     2   \n",
       "3  Welsh Springer Spaniel  sporting   3.34                  81     2   \n",
       "4  English Cocker Spaniel  sporting   3.33                  51     2   \n",
       "\n",
       "    intelligence           congential ailments  score for kids  size.1  \\\n",
       "0  Above average                          none            4.99   small   \n",
       "1  Above average  'lion jaw', heart problems              4.91   small   \n",
       "2        Average                          none            4.72  medium   \n",
       "3  Above average                  hip problems            4.71  medium   \n",
       "4      Excellent                          none            4.70  medium   \n",
       "\n",
       "  $LIFETIME COST  INTELLIGENCE RANK INTELLIGENCE %  LONGEVITY(YEARS)  \\\n",
       "0       $22,638                  30            70%             14.00   \n",
       "1       $21,992                  35            61%             13.84   \n",
       "2       $22,049                  45            45%             12.58   \n",
       "3       $20,224                  31            69%             12.49   \n",
       "4       $18,993                  18            82%             11.66   \n",
       "\n",
       "   NUMBER OF GENETIC AILMENTS              GENETIC AILMENTS PURCHASE PRICE  \\\n",
       "0                           0                          none          $833    \n",
       "1                           2  'lion jaw', heart problems            $435    \n",
       "2                           0                          none          $650    \n",
       "3                           1                  hip problems          $750    \n",
       "4                           0                          none          $800    \n",
       "\n",
       "  FOOD COSTS PER YEAR    GROOMING FREQUNCY  SUITABILITY FOR CHILDREN  \n",
       "0               $324           Once a week                         1  \n",
       "1               $324           Once a week                         1  \n",
       "2               $466   Once in a few weeks                         1  \n",
       "3               $324           Once a week                         1  \n",
       "4               $324           Once a week                         1  "
      ]
     },
     "execution_count": 6,
     "metadata": {},
     "output_type": "execute_result"
    }
   ],
   "source": [
    "df.head()"
   ]
  },
  {
   "cell_type": "code",
   "execution_count": 7,
   "id": "35c13a4a",
   "metadata": {
    "execution": {
     "iopub.execute_input": "2024-05-28T04:10:48.658717Z",
     "iopub.status.busy": "2024-05-28T04:10:48.657888Z",
     "iopub.status.idle": "2024-05-28T04:10:48.676637Z",
     "shell.execute_reply": "2024-05-28T04:10:48.675440Z"
    },
    "papermill": {
     "duration": 0.034662,
     "end_time": "2024-05-28T04:10:48.679176",
     "exception": false,
     "start_time": "2024-05-28T04:10:48.644514",
     "status": "completed"
    },
    "tags": []
   },
   "outputs": [
    {
     "data": {
      "text/plain": [
       "Border Terrier          1\n",
       "Doberman Pinscher       1\n",
       "Boxer                   1\n",
       "Bernese Mountain Dog    1\n",
       "French Bulldog          1\n",
       "                       ..\n",
       "Beagle                  1\n",
       "Miniature Schnauzer     1\n",
       "Affenpinscher           1\n",
       "Pug                     1\n",
       "Bulldog                 1\n",
       "Name: Breed, Length: 87, dtype: int64"
      ]
     },
     "execution_count": 7,
     "metadata": {},
     "output_type": "execute_result"
    }
   ],
   "source": [
    "df.Breed.value_counts()"
   ]
  },
  {
   "cell_type": "code",
   "execution_count": 8,
   "id": "d0558241",
   "metadata": {
    "execution": {
     "iopub.execute_input": "2024-05-28T04:10:48.705830Z",
     "iopub.status.busy": "2024-05-28T04:10:48.705143Z",
     "iopub.status.idle": "2024-05-28T04:10:48.727624Z",
     "shell.execute_reply": "2024-05-28T04:10:48.726197Z"
    },
    "papermill": {
     "duration": 0.038755,
     "end_time": "2024-05-28T04:10:48.730284",
     "exception": false,
     "start_time": "2024-05-28T04:10:48.691529",
     "status": "completed"
    },
    "scrolled": true,
    "tags": []
   },
   "outputs": [
    {
     "name": "stdout",
     "output_type": "stream",
     "text": [
      "<class 'pandas.core.frame.DataFrame'>\n",
      "RangeIndex: 87 entries, 0 to 86\n",
      "Data columns (total 19 columns):\n",
      " #   Column                      Non-Null Count  Dtype  \n",
      "---  ------                      --------------  -----  \n",
      " 0   Breed                       87 non-null     object \n",
      " 1   type                        87 non-null     object \n",
      " 2   score                       87 non-null     float64\n",
      " 3   popularity ranking          87 non-null     int64  \n",
      " 4   size                        87 non-null     int64  \n",
      " 5   intelligence                87 non-null     object \n",
      " 6   congential ailments         87 non-null     object \n",
      " 7   score for kids              87 non-null     float64\n",
      " 8   size.1                      87 non-null     object \n",
      " 9   $LIFETIME COST              87 non-null     object \n",
      " 10  INTELLIGENCE RANK           87 non-null     int64  \n",
      " 11  INTELLIGENCE %              87 non-null     object \n",
      " 12  LONGEVITY(YEARS)            87 non-null     float64\n",
      " 13  NUMBER OF GENETIC AILMENTS  87 non-null     int64  \n",
      " 14  GENETIC AILMENTS            87 non-null     object \n",
      " 15  PURCHASE PRICE              87 non-null     object \n",
      " 16  FOOD COSTS PER YEAR         87 non-null     object \n",
      " 17  GROOMING FREQUNCY           87 non-null     object \n",
      " 18  SUITABILITY FOR CHILDREN    87 non-null     int64  \n",
      "dtypes: float64(3), int64(5), object(11)\n",
      "memory usage: 13.0+ KB\n"
     ]
    }
   ],
   "source": [
    "df.info()"
   ]
  },
  {
   "cell_type": "code",
   "execution_count": 9,
   "id": "86cf2ccb",
   "metadata": {
    "execution": {
     "iopub.execute_input": "2024-05-28T04:10:48.757537Z",
     "iopub.status.busy": "2024-05-28T04:10:48.756873Z",
     "iopub.status.idle": "2024-05-28T04:10:48.766042Z",
     "shell.execute_reply": "2024-05-28T04:10:48.764763Z"
    },
    "papermill": {
     "duration": 0.025445,
     "end_time": "2024-05-28T04:10:48.768573",
     "exception": false,
     "start_time": "2024-05-28T04:10:48.743128",
     "status": "completed"
    },
    "tags": []
   },
   "outputs": [
    {
     "data": {
      "text/plain": [
       "Index(['breed', 'type', 'score', 'popularity_ranking', 'size', 'intelligence',\n",
       "       'congential_ailments', 'score_for_kids', 'size.1', '$lifetime_cost',\n",
       "       'intelligence_rank', 'intelligence_%', 'longevity(years)',\n",
       "       'number_of_genetic_ailments', 'genetic_ailments', 'purchase_price',\n",
       "       'food_costs_per_year', 'grooming_frequncy', 'suitability_for_children'],\n",
       "      dtype='object')"
      ]
     },
     "execution_count": 9,
     "metadata": {},
     "output_type": "execute_result"
    }
   ],
   "source": [
    "df.columns = df.columns.str.lower().str.replace(' ','_')\n",
    "df.columns"
   ]
  },
  {
   "cell_type": "code",
   "execution_count": 10,
   "id": "9200f2e1",
   "metadata": {
    "execution": {
     "iopub.execute_input": "2024-05-28T04:10:48.796413Z",
     "iopub.status.busy": "2024-05-28T04:10:48.795803Z",
     "iopub.status.idle": "2024-05-28T04:10:48.829612Z",
     "shell.execute_reply": "2024-05-28T04:10:48.828353Z"
    },
    "papermill": {
     "duration": 0.050987,
     "end_time": "2024-05-28T04:10:48.832238",
     "exception": false,
     "start_time": "2024-05-28T04:10:48.781251",
     "status": "completed"
    },
    "tags": []
   },
   "outputs": [
    {
     "data": {
      "text/html": [
       "<div>\n",
       "<style scoped>\n",
       "    .dataframe tbody tr th:only-of-type {\n",
       "        vertical-align: middle;\n",
       "    }\n",
       "\n",
       "    .dataframe tbody tr th {\n",
       "        vertical-align: top;\n",
       "    }\n",
       "\n",
       "    .dataframe thead th {\n",
       "        text-align: right;\n",
       "    }\n",
       "</style>\n",
       "<table border=\"1\" class=\"dataframe\">\n",
       "  <thead>\n",
       "    <tr style=\"text-align: right;\">\n",
       "      <th></th>\n",
       "      <th>score</th>\n",
       "      <th>popularity_ranking</th>\n",
       "      <th>size</th>\n",
       "      <th>score_for_kids</th>\n",
       "      <th>intelligence_rank</th>\n",
       "      <th>longevity(years)</th>\n",
       "      <th>number_of_genetic_ailments</th>\n",
       "      <th>suitability_for_children</th>\n",
       "    </tr>\n",
       "  </thead>\n",
       "  <tbody>\n",
       "    <tr>\n",
       "      <th>count</th>\n",
       "      <td>87.000000</td>\n",
       "      <td>87.000000</td>\n",
       "      <td>87.000000</td>\n",
       "      <td>87.000000</td>\n",
       "      <td>87.000000</td>\n",
       "      <td>87.000000</td>\n",
       "      <td>87.000000</td>\n",
       "      <td>87.000000</td>\n",
       "    </tr>\n",
       "    <tr>\n",
       "      <th>mean</th>\n",
       "      <td>2.603678</td>\n",
       "      <td>44.000000</td>\n",
       "      <td>1.954023</td>\n",
       "      <td>3.681839</td>\n",
       "      <td>41.540230</td>\n",
       "      <td>11.117701</td>\n",
       "      <td>1.689655</td>\n",
       "      <td>1.540230</td>\n",
       "    </tr>\n",
       "    <tr>\n",
       "      <th>std</th>\n",
       "      <td>0.570288</td>\n",
       "      <td>25.258662</td>\n",
       "      <td>0.819927</td>\n",
       "      <td>0.655736</td>\n",
       "      <td>21.979803</td>\n",
       "      <td>1.938465</td>\n",
       "      <td>1.707101</td>\n",
       "      <td>0.678655</td>\n",
       "    </tr>\n",
       "    <tr>\n",
       "      <th>min</th>\n",
       "      <td>0.990000</td>\n",
       "      <td>1.000000</td>\n",
       "      <td>1.000000</td>\n",
       "      <td>1.860000</td>\n",
       "      <td>1.000000</td>\n",
       "      <td>6.290000</td>\n",
       "      <td>0.000000</td>\n",
       "      <td>1.000000</td>\n",
       "    </tr>\n",
       "    <tr>\n",
       "      <th>25%</th>\n",
       "      <td>2.185000</td>\n",
       "      <td>22.500000</td>\n",
       "      <td>1.000000</td>\n",
       "      <td>3.180000</td>\n",
       "      <td>27.000000</td>\n",
       "      <td>10.000000</td>\n",
       "      <td>0.500000</td>\n",
       "      <td>1.000000</td>\n",
       "    </tr>\n",
       "    <tr>\n",
       "      <th>50%</th>\n",
       "      <td>2.710000</td>\n",
       "      <td>44.000000</td>\n",
       "      <td>2.000000</td>\n",
       "      <td>3.810000</td>\n",
       "      <td>43.000000</td>\n",
       "      <td>11.560000</td>\n",
       "      <td>1.000000</td>\n",
       "      <td>1.000000</td>\n",
       "    </tr>\n",
       "    <tr>\n",
       "      <th>75%</th>\n",
       "      <td>3.035000</td>\n",
       "      <td>65.500000</td>\n",
       "      <td>3.000000</td>\n",
       "      <td>4.115000</td>\n",
       "      <td>59.000000</td>\n",
       "      <td>12.430000</td>\n",
       "      <td>2.000000</td>\n",
       "      <td>2.000000</td>\n",
       "    </tr>\n",
       "    <tr>\n",
       "      <th>max</th>\n",
       "      <td>3.640000</td>\n",
       "      <td>87.000000</td>\n",
       "      <td>3.000000</td>\n",
       "      <td>4.990000</td>\n",
       "      <td>80.000000</td>\n",
       "      <td>16.500000</td>\n",
       "      <td>9.000000</td>\n",
       "      <td>3.000000</td>\n",
       "    </tr>\n",
       "  </tbody>\n",
       "</table>\n",
       "</div>"
      ],
      "text/plain": [
       "           score  popularity_ranking       size  score_for_kids  \\\n",
       "count  87.000000           87.000000  87.000000       87.000000   \n",
       "mean    2.603678           44.000000   1.954023        3.681839   \n",
       "std     0.570288           25.258662   0.819927        0.655736   \n",
       "min     0.990000            1.000000   1.000000        1.860000   \n",
       "25%     2.185000           22.500000   1.000000        3.180000   \n",
       "50%     2.710000           44.000000   2.000000        3.810000   \n",
       "75%     3.035000           65.500000   3.000000        4.115000   \n",
       "max     3.640000           87.000000   3.000000        4.990000   \n",
       "\n",
       "       intelligence_rank  longevity(years)  number_of_genetic_ailments  \\\n",
       "count          87.000000         87.000000                   87.000000   \n",
       "mean           41.540230         11.117701                    1.689655   \n",
       "std            21.979803          1.938465                    1.707101   \n",
       "min             1.000000          6.290000                    0.000000   \n",
       "25%            27.000000         10.000000                    0.500000   \n",
       "50%            43.000000         11.560000                    1.000000   \n",
       "75%            59.000000         12.430000                    2.000000   \n",
       "max            80.000000         16.500000                    9.000000   \n",
       "\n",
       "       suitability_for_children  \n",
       "count                 87.000000  \n",
       "mean                   1.540230  \n",
       "std                    0.678655  \n",
       "min                    1.000000  \n",
       "25%                    1.000000  \n",
       "50%                    1.000000  \n",
       "75%                    2.000000  \n",
       "max                    3.000000  "
      ]
     },
     "execution_count": 10,
     "metadata": {},
     "output_type": "execute_result"
    }
   ],
   "source": [
    "df.describe()"
   ]
  },
  {
   "cell_type": "code",
   "execution_count": 11,
   "id": "f0f9f0b3",
   "metadata": {
    "execution": {
     "iopub.execute_input": "2024-05-28T04:10:48.911482Z",
     "iopub.status.busy": "2024-05-28T04:10:48.911078Z",
     "iopub.status.idle": "2024-05-28T04:10:49.209959Z",
     "shell.execute_reply": "2024-05-28T04:10:49.208773Z"
    },
    "papermill": {
     "duration": 0.315539,
     "end_time": "2024-05-28T04:10:49.212573",
     "exception": false,
     "start_time": "2024-05-28T04:10:48.897034",
     "status": "completed"
    },
    "tags": []
   },
   "outputs": [
    {
     "data": {
      "image/png": "[encoded data removed]",
      "text/plain": [
       "<Figure size 1200x400 with 1 Axes>"
      ]
     },
     "metadata": {},
     "output_type": "display_data"
    }
   ],
   "source": [
    "top_10_popular = df.sort_values('popularity_ranking').head(10)\n",
    "\n",
    "plt.figure(figsize=(12, 4))\n",
    "plt.barh(top_10_popular['breed'][::-1], top_10_popular['popularity_ranking'][::-1])\n",
    "plt.xlabel('Popularity Ranking')\n",
    "plt.ylabel('Breeds')\n",
    "plt.title('Top 10 Most Popular Dog Breeds')\n",
    "plt.show()"
   ]
  },
  {
   "cell_type": "markdown",
   "id": "5dcf8326",
   "metadata": {
    "papermill": {
     "duration": 0.014495,
     "end_time": "2024-05-28T04:10:49.867162",
     "exception": false,
     "start_time": "2024-05-28T04:10:49.852667",
     "status": "completed"
    },
    "tags": []
   },
   "source": [
    "There is a relatively high positive correlation between score for kids and longevity, suggesting that kid-friendly breeds tend to have longer lifespans. This relationship is intuitive because dogs that are kid-friendly tend to form strong emotional bonds with their human families. This emotional connection and the companionship they provide can contribute to the overall well-being and happiness of both the dog and the family members, potentially leading to a longer lifespan of the dog."
   ]
  },
  {
   "cell_type": "code",
   "execution_count": 11,
   "id": "879f593b",
   "metadata": {
    "execution": {
     "iopub.execute_input": "2024-05-28T04:10:49.930434Z",
     "iopub.status.busy": "2024-05-28T04:10:49.930044Z",
     "iopub.status.idle": "2024-05-28T04:10:50.215875Z",
     "shell.execute_reply": "2024-05-28T04:10:50.214616Z"
    },
    "papermill": {
     "duration": 0.305796,
     "end_time": "2024-05-28T04:10:50.218584",
     "exception": false,
     "start_time": "2024-05-28T04:10:49.912788",
     "status": "completed"
    },
    "tags": []
   },
   "outputs": [
    {
     "data": {
      "image/png": "[encoded data removed]",
      "text/plain": [
       "<Figure size 1000x600 with 1 Axes>"
      ]
     },
     "metadata": {},
     "output_type": "display_data"
    }
   ],
   "source": [
    "plt.figure(figsize=(10, 6))\n",
    "sns.scatterplot(y='longevity(years)', x='score_for_kids', data=df)\n",
    "plt.ylabel('Longevity (Years)')\n",
    "plt.xlabel('Kid-Friendly Score')\n",
    "plt.title('Relationship between Longevity and Kid-Friendly Score')\n",
    "plt.show()"
   ]
  },
  {
   "cell_type": "code",
   "execution_count": 12,
   "id": "32dc1ebf",
   "metadata": {
    "execution": {
     "iopub.execute_input": "2024-05-28T04:10:50.284054Z",
     "iopub.status.busy": "2024-05-28T04:10:50.283611Z",
     "iopub.status.idle": "2024-05-28T04:10:50.667238Z",
     "shell.execute_reply": "2024-05-28T04:10:50.665975Z"
    },
    "papermill": {
     "duration": 0.403375,
     "end_time": "2024-05-28T04:10:50.669811",
     "exception": false,
     "start_time": "2024-05-28T04:10:50.266436",
     "status": "completed"
    },
    "tags": []
   },
   "outputs": [
    {
     "data": {
      "image/png": "[encoded data removed]",
      "text/plain": [
       "<Figure size 1000x600 with 1 Axes>"
      ]
     },
     "metadata": {},
     "output_type": "display_data"
    }
   ],
   "source": [
    "plt.figure(figsize=(10, 6))\n",
    "sns.scatterplot(y='longevity(years)', x='score_for_kids', data=df)\n",
    "plt.ylabel('Longevity (Years)')\n",
    "plt.xlabel('Kid-Friendly Score')\n",
    "plt.title('Relationship between Longevity and Kid-Friendly Score')\n",
    "\n",
    "X = df['score_for_kids'].values.reshape(-1,1)\n",
    "y = df['longevity(years)'].values\n",
    "\n",
    "# fit linear regression\n",
    "lr = LinearRegression()\n",
    "lr.fit(X, y)\n",
    "\n",
    "# plot regression line\n",
    "x_range = np.linspace(df['score_for_kids'].min(), df['score_for_kids'].max(), 100)\n",
    "y_range = lr.predict(x_range.reshape(-1,1))\n",
    "plt.plot(x_range, y_range, color= 'orange', label='Linear Regression')\n",
    "plt.legend()\n",
    "plt.ylim(0,20)\n",
    "plt.show()"
   ]
  },
  {
   "cell_type": "code",
   "execution_count": 13,
   "id": "cd192532",
   "metadata": {
    "execution": {
     "iopub.execute_input": "2024-05-28T04:10:50.742203Z",
     "iopub.status.busy": "2024-05-28T04:10:50.741587Z",
     "iopub.status.idle": "2024-05-28T04:10:50.751072Z",
     "shell.execute_reply": "2024-05-28T04:10:50.749923Z"
    },
    "papermill": {
     "duration": 0.034817,
     "end_time": "2024-05-28T04:10:50.754268",
     "exception": false,
     "start_time": "2024-05-28T04:10:50.719451",
     "status": "completed"
    },
    "tags": []
   },
   "outputs": [
    {
     "data": {
      "text/plain": [
       "Average          21\n",
       "Above average    19\n",
       "Fair             15\n",
       "Excellent        11\n",
       "Lowest           11\n",
       "Brightest        10\n",
       "Name: intelligence, dtype: int64"
      ]
     },
     "execution_count": 13,
     "metadata": {},
     "output_type": "execute_result"
    }
   ],
   "source": [
    "df.intelligence.value_counts()"
   ]
  },
  {
   "cell_type": "code",
   "execution_count": 14,
   "id": "d07c6737",
   "metadata": {
    "execution": {
     "iopub.execute_input": "2024-05-28T04:10:50.793895Z",
     "iopub.status.busy": "2024-05-28T04:10:50.792583Z",
     "iopub.status.idle": "2024-05-28T04:10:50.823751Z",
     "shell.execute_reply": "2024-05-28T04:10:50.822869Z"
    },
    "papermill": {
     "duration": 0.052745,
     "end_time": "2024-05-28T04:10:50.827523",
     "exception": false,
     "start_time": "2024-05-28T04:10:50.774778",
     "status": "completed"
    },
    "tags": []
   },
   "outputs": [
    {
     "data": {
      "text/html": [
       "<div>\n",
       "<style scoped>\n",
       "    .dataframe tbody tr th:only-of-type {\n",
       "        vertical-align: middle;\n",
       "    }\n",
       "\n",
       "    .dataframe tbody tr th {\n",
       "        vertical-align: top;\n",
       "    }\n",
       "\n",
       "    .dataframe thead th {\n",
       "        text-align: right;\n",
       "    }\n",
       "</style>\n",
       "<table border=\"1\" class=\"dataframe\">\n",
       "  <thead>\n",
       "    <tr style=\"text-align: right;\">\n",
       "      <th></th>\n",
       "      <th>breed</th>\n",
       "      <th>type</th>\n",
       "      <th>score</th>\n",
       "      <th>popularity_ranking</th>\n",
       "      <th>size</th>\n",
       "      <th>intelligence</th>\n",
       "      <th>congential_ailments</th>\n",
       "      <th>score_for_kids</th>\n",
       "      <th>size.1</th>\n",
       "      <th>$lifetime_cost</th>\n",
       "      <th>intelligence_rank</th>\n",
       "      <th>intelligence_%</th>\n",
       "      <th>longevity(years)</th>\n",
       "      <th>number_of_genetic_ailments</th>\n",
       "      <th>genetic_ailments</th>\n",
       "      <th>purchase_price</th>\n",
       "      <th>food_costs_per_year</th>\n",
       "      <th>grooming_frequncy</th>\n",
       "      <th>suitability_for_children</th>\n",
       "      <th>intelligence_mapped</th>\n",
       "    </tr>\n",
       "  </thead>\n",
       "  <tbody>\n",
       "    <tr>\n",
       "      <th>0</th>\n",
       "      <td>Border Terrier</td>\n",
       "      <td>terrier</td>\n",
       "      <td>3.61</td>\n",
       "      <td>61</td>\n",
       "      <td>1</td>\n",
       "      <td>Above average</td>\n",
       "      <td>none</td>\n",
       "      <td>4.99</td>\n",
       "      <td>small</td>\n",
       "      <td>$22,638</td>\n",
       "      <td>30</td>\n",
       "      <td>70%</td>\n",
       "      <td>14.00</td>\n",
       "      <td>0</td>\n",
       "      <td>none</td>\n",
       "      <td>$833</td>\n",
       "      <td>$324</td>\n",
       "      <td>Once a week</td>\n",
       "      <td>1</td>\n",
       "      <td>4</td>\n",
       "    </tr>\n",
       "    <tr>\n",
       "      <th>1</th>\n",
       "      <td>Cairn Terrier</td>\n",
       "      <td>terrier</td>\n",
       "      <td>3.53</td>\n",
       "      <td>48</td>\n",
       "      <td>1</td>\n",
       "      <td>Above average</td>\n",
       "      <td>'lion jaw', heart problems</td>\n",
       "      <td>4.91</td>\n",
       "      <td>small</td>\n",
       "      <td>$21,992</td>\n",
       "      <td>35</td>\n",
       "      <td>61%</td>\n",
       "      <td>13.84</td>\n",
       "      <td>2</td>\n",
       "      <td>'lion jaw', heart problems</td>\n",
       "      <td>$435</td>\n",
       "      <td>$324</td>\n",
       "      <td>Once a week</td>\n",
       "      <td>1</td>\n",
       "      <td>4</td>\n",
       "    </tr>\n",
       "    <tr>\n",
       "      <th>2</th>\n",
       "      <td>Siberian Husky</td>\n",
       "      <td>working</td>\n",
       "      <td>3.22</td>\n",
       "      <td>16</td>\n",
       "      <td>2</td>\n",
       "      <td>Average</td>\n",
       "      <td>none</td>\n",
       "      <td>4.72</td>\n",
       "      <td>medium</td>\n",
       "      <td>$22,049</td>\n",
       "      <td>45</td>\n",
       "      <td>45%</td>\n",
       "      <td>12.58</td>\n",
       "      <td>0</td>\n",
       "      <td>none</td>\n",
       "      <td>$650</td>\n",
       "      <td>$466</td>\n",
       "      <td>Once in a few weeks</td>\n",
       "      <td>1</td>\n",
       "      <td>3</td>\n",
       "    </tr>\n",
       "    <tr>\n",
       "      <th>3</th>\n",
       "      <td>Welsh Springer Spaniel</td>\n",
       "      <td>sporting</td>\n",
       "      <td>3.34</td>\n",
       "      <td>81</td>\n",
       "      <td>2</td>\n",
       "      <td>Above average</td>\n",
       "      <td>hip problems</td>\n",
       "      <td>4.71</td>\n",
       "      <td>medium</td>\n",
       "      <td>$20,224</td>\n",
       "      <td>31</td>\n",
       "      <td>69%</td>\n",
       "      <td>12.49</td>\n",
       "      <td>1</td>\n",
       "      <td>hip problems</td>\n",
       "      <td>$750</td>\n",
       "      <td>$324</td>\n",
       "      <td>Once a week</td>\n",
       "      <td>1</td>\n",
       "      <td>4</td>\n",
       "    </tr>\n",
       "    <tr>\n",
       "      <th>4</th>\n",
       "      <td>English Cocker Spaniel</td>\n",
       "      <td>sporting</td>\n",
       "      <td>3.33</td>\n",
       "      <td>51</td>\n",
       "      <td>2</td>\n",
       "      <td>Excellent</td>\n",
       "      <td>none</td>\n",
       "      <td>4.70</td>\n",
       "      <td>medium</td>\n",
       "      <td>$18,993</td>\n",
       "      <td>18</td>\n",
       "      <td>82%</td>\n",
       "      <td>11.66</td>\n",
       "      <td>0</td>\n",
       "      <td>none</td>\n",
       "      <td>$800</td>\n",
       "      <td>$324</td>\n",
       "      <td>Once a week</td>\n",
       "      <td>1</td>\n",
       "      <td>5</td>\n",
       "    </tr>\n",
       "  </tbody>\n",
       "</table>\n",
       "</div>"
      ],
      "text/plain": [
       "                    breed      type  score  popularity_ranking  size  \\\n",
       "0          Border Terrier   terrier   3.61                  61     1   \n",
       "1           Cairn Terrier   terrier   3.53                  48     1   \n",
       "2          Siberian Husky   working   3.22                  16     2   \n",
       "3  Welsh Springer Spaniel  sporting   3.34                  81     2   \n",
       "4  English Cocker Spaniel  sporting   3.33                  51     2   \n",
       "\n",
       "    intelligence           congential_ailments  score_for_kids  size.1  \\\n",
       "0  Above average                          none            4.99   small   \n",
       "1  Above average  'lion jaw', heart problems              4.91   small   \n",
       "2        Average                          none            4.72  medium   \n",
       "3  Above average                  hip problems            4.71  medium   \n",
       "4      Excellent                          none            4.70  medium   \n",
       "\n",
       "  $lifetime_cost  intelligence_rank intelligence_%  longevity(years)  \\\n",
       "0       $22,638                  30            70%             14.00   \n",
       "1       $21,992                  35            61%             13.84   \n",
       "2       $22,049                  45            45%             12.58   \n",
       "3       $20,224                  31            69%             12.49   \n",
       "4       $18,993                  18            82%             11.66   \n",
       "\n",
       "   number_of_genetic_ailments              genetic_ailments purchase_price  \\\n",
       "0                           0                          none          $833    \n",
       "1                           2  'lion jaw', heart problems            $435    \n",
       "2                           0                          none          $650    \n",
       "3                           1                  hip problems          $750    \n",
       "4                           0                          none          $800    \n",
       "\n",
       "  food_costs_per_year    grooming_frequncy  suitability_for_children  \\\n",
       "0               $324           Once a week                         1   \n",
       "1               $324           Once a week                         1   \n",
       "2               $466   Once in a few weeks                         1   \n",
       "3               $324           Once a week                         1   \n",
       "4               $324           Once a week                         1   \n",
       "\n",
       "   intelligence_mapped  \n",
       "0                    4  \n",
       "1                    4  \n",
       "2                    3  \n",
       "3                    4  \n",
       "4                    5  "
      ]
     },
     "execution_count": 14,
     "metadata": {},
     "output_type": "execute_result"
    }
   ],
   "source": [
    "intelligence_mapping = {\n",
    "    'Lowest': 1,\n",
    "    'Fair': 2,\n",
    "    'Average': 3,\n",
    "    'Above average': 4,\n",
    "    'Excellent': 5,\n",
    "    'Brightest': 6\n",
    "}\n",
    "\n",
    "df['intelligence_mapped'] = df['intelligence'].map(intelligence_mapping)\n",
    "df.head()"
   ]
  },
  {
   "cell_type": "code",
   "execution_count": 17,
   "id": "9020e5e8",
   "metadata": {
    "execution": {
     "iopub.execute_input": "2024-05-28T04:10:51.380848Z",
     "iopub.status.busy": "2024-05-28T04:10:51.380361Z",
     "iopub.status.idle": "2024-05-28T04:10:51.390236Z",
     "shell.execute_reply": "2024-05-28T04:10:51.389011Z"
    },
    "papermill": {
     "duration": 0.031223,
     "end_time": "2024-05-28T04:10:51.392647",
     "exception": false,
     "start_time": "2024-05-28T04:10:51.361424",
     "status": "completed"
    },
    "tags": []
   },
   "outputs": [
    {
     "data": {
      "text/plain": [
       "sporting        15\n",
       "working         14\n",
       "toy             13\n",
       "hound           13\n",
       "terrier         12\n",
       "non-sporting    10\n",
       "herding         10\n",
       "Name: type, dtype: int64"
      ]
     },
     "execution_count": 17,
     "metadata": {},
     "output_type": "execute_result"
    }
   ],
   "source": [
    "df.type.value_counts()"
   ]
  },
  {
   "cell_type": "code",
   "execution_count": 18,
   "id": "58b809b4",
   "metadata": {
    "execution": {
     "iopub.execute_input": "2024-05-28T04:10:51.430196Z",
     "iopub.status.busy": "2024-05-28T04:10:51.429749Z",
     "iopub.status.idle": "2024-05-28T04:10:51.440456Z",
     "shell.execute_reply": "2024-05-28T04:10:51.439220Z"
    },
    "papermill": {
     "duration": 0.032163,
     "end_time": "2024-05-28T04:10:51.442970",
     "exception": false,
     "start_time": "2024-05-28T04:10:51.410807",
     "status": "completed"
    },
    "tags": []
   },
   "outputs": [
    {
     "data": {
      "text/plain": [
       "none                                                                                                   22\n",
       "hip problems                                                                                           12\n",
       "heart problems                                                                                          3\n",
       "deafness, hip problems                                                                                  2\n",
       "knee problems                                                                                           2\n",
       "eye, hip problems                                                                                       2\n",
       "heart, spine, blood clotting disorders                                                                  1\n",
       "hip problems, heart defects                                                                             1\n",
       "kidney, eye problems, anaemia                                                                           1\n",
       "meningitis, elbow + hip problems, complex immune disorder                                               1\n",
       "eye, nerve, heart problems                                                                              1\n",
       "heart problem                                                                                           1\n",
       "heart, elbow, hip problems                                                                              1\n",
       "knee, liver, trachea, eye disorders                                                                     1\n",
       "heart, liver, hips                                                                                      1\n",
       "blood vessel disorders                                                                                  1\n",
       "blood clotting disorder                                                                                 1\n",
       "nerves, pancreas, blood (hemophilia), hip joints                                                        1\n",
       "hip, heart problems                                                                                     1\n",
       "heart, spinal, hip problems, fatal stomach bloat                                                        1\n",
       "birth defects, hip problems                                                                             1\n",
       "heart problems, zinc metabolism disorder                                                                1\n",
       "heart, hip disorders, fatal stomach bloat                                                               1\n",
       "hip problems, dwarfism                                                                                  1\n",
       "fatal stomach bloat, skin problems                                                                      1\n",
       "skin, spinal problems                                                                                   1\n",
       "fatal stomach bloat, skin disorder                                                                      1\n",
       "cataracts + other eye problems, connective tissue, nerves, kidneys, spine, blood clotting disorders     1\n",
       "cataracts, hair loss, heart, eye, blood clotting disorders                                              1\n",
       "eye, skin problems                                                                                      1\n",
       "dry eye                                                                                                 1\n",
       "hip, eye, skin problems; enzyme deficiency                                                              1\n",
       "eye problems, deafness, skin + heart problems, blood clotting disorders                                 1\n",
       "'lion jaw', 'dry eye', skin problems                                                                    1\n",
       "elbows, hips, eyes                                                                                      1\n",
       "hip, eye problems                                                                                       1\n",
       "eye problems                                                                                            1\n",
       "elbows, hips, eyes, heart                                                                               1\n",
       "no data                                                                                                 1\n",
       "'lion jaw', heart problems                                                                              1\n",
       "'dry eye'                                                                                               1\n",
       "liver, sinus problems                                                                                   1\n",
       "eye problems, deafness                                                                                  1\n",
       "breathing problems                                                                                      1\n",
       "liver, eye problems                                                                                     1\n",
       "heart, spinal problems                                                                                  1\n",
       "deafness, urinary stones                                                                                1\n",
       "epilepsy, eye problems                                                                                  1\n",
       "blood, skin disorders                                                                                   1\n",
       "breathing, hip, heart problems, 'dry eye'                                                               1\n",
       "Name: genetic_ailments, dtype: int64"
      ]
     },
     "execution_count": 18,
     "metadata": {},
     "output_type": "execute_result"
    }
   ],
   "source": [
    "df.genetic_ailments.value_counts()"
   ]
  },
  {
   "cell_type": "markdown",
   "id": "4aacd1b7",
   "metadata": {
    "papermill": {
     "duration": 0.018052,
     "end_time": "2024-05-28T04:10:51.943420",
     "exception": false,
     "start_time": "2024-05-28T04:10:51.925368",
     "status": "completed"
    },
    "tags": []
   },
   "source": [
    "Breeds categorized as 'working', 'herding', and 'sporting' exhibit the highest proportion of genetic ailments. Understanding these breed-specific predispositions is essential for informed breeding practices and responsible pet ownership."
   ]
  },
  {
   "cell_type": "code",
   "execution_count": 21,
   "id": "c2a4dc1b",
   "metadata": {
    "execution": {
     "iopub.execute_input": "2024-05-28T04:10:52.019188Z",
     "iopub.status.busy": "2024-05-28T04:10:52.018792Z",
     "iopub.status.idle": "2024-05-28T04:10:52.035815Z",
     "shell.execute_reply": "2024-05-28T04:10:52.034975Z"
    },
    "papermill": {
     "duration": 0.03953,
     "end_time": "2024-05-28T04:10:52.038114",
     "exception": false,
     "start_time": "2024-05-28T04:10:51.998584",
     "status": "completed"
    },
    "tags": []
   },
   "outputs": [
    {
     "data": {
      "text/html": [
       "<div>\n",
       "<style scoped>\n",
       "    .dataframe tbody tr th:only-of-type {\n",
       "        vertical-align: middle;\n",
       "    }\n",
       "\n",
       "    .dataframe tbody tr th {\n",
       "        vertical-align: top;\n",
       "    }\n",
       "\n",
       "    .dataframe thead th {\n",
       "        text-align: right;\n",
       "    }\n",
       "</style>\n",
       "<table border=\"1\" class=\"dataframe\">\n",
       "  <thead>\n",
       "    <tr style=\"text-align: right;\">\n",
       "      <th></th>\n",
       "      <th>breed</th>\n",
       "      <th>$lifetime_cost</th>\n",
       "      <th>score</th>\n",
       "    </tr>\n",
       "  </thead>\n",
       "  <tbody>\n",
       "    <tr>\n",
       "      <th>0</th>\n",
       "      <td>Border Terrier</td>\n",
       "      <td>$22,638</td>\n",
       "      <td>3.61</td>\n",
       "    </tr>\n",
       "    <tr>\n",
       "      <th>1</th>\n",
       "      <td>Cairn Terrier</td>\n",
       "      <td>$21,992</td>\n",
       "      <td>3.53</td>\n",
       "    </tr>\n",
       "    <tr>\n",
       "      <th>2</th>\n",
       "      <td>Siberian Husky</td>\n",
       "      <td>$22,049</td>\n",
       "      <td>3.22</td>\n",
       "    </tr>\n",
       "    <tr>\n",
       "      <th>3</th>\n",
       "      <td>Welsh Springer Spaniel</td>\n",
       "      <td>$20,224</td>\n",
       "      <td>3.34</td>\n",
       "    </tr>\n",
       "    <tr>\n",
       "      <th>4</th>\n",
       "      <td>English Cocker Spaniel</td>\n",
       "      <td>$18,993</td>\n",
       "      <td>3.33</td>\n",
       "    </tr>\n",
       "    <tr>\n",
       "      <th>...</th>\n",
       "      <td>...</td>\n",
       "      <td>...</td>\n",
       "      <td>...</td>\n",
       "    </tr>\n",
       "    <tr>\n",
       "      <th>82</th>\n",
       "      <td>Alaskan Malamute</td>\n",
       "      <td>$21,986</td>\n",
       "      <td>1.82</td>\n",
       "    </tr>\n",
       "    <tr>\n",
       "      <th>83</th>\n",
       "      <td>Bloodhound</td>\n",
       "      <td>$13,824</td>\n",
       "      <td>1.66</td>\n",
       "    </tr>\n",
       "    <tr>\n",
       "      <th>84</th>\n",
       "      <td>Chow Chow</td>\n",
       "      <td>$15,898</td>\n",
       "      <td>1.76</td>\n",
       "    </tr>\n",
       "    <tr>\n",
       "      <th>85</th>\n",
       "      <td>Akita</td>\n",
       "      <td>$20,994</td>\n",
       "      <td>1.95</td>\n",
       "    </tr>\n",
       "    <tr>\n",
       "      <th>86</th>\n",
       "      <td>Bulldog</td>\n",
       "      <td>$13,479</td>\n",
       "      <td>0.99</td>\n",
       "    </tr>\n",
       "  </tbody>\n",
       "</table>\n",
       "<p>87 rows × 3 columns</p>\n",
       "</div>"
      ],
      "text/plain": [
       "                     breed $lifetime_cost  score\n",
       "0           Border Terrier       $22,638    3.61\n",
       "1            Cairn Terrier       $21,992    3.53\n",
       "2           Siberian Husky       $22,049    3.22\n",
       "3   Welsh Springer Spaniel       $20,224    3.34\n",
       "4   English Cocker Spaniel       $18,993    3.33\n",
       "..                     ...            ...    ...\n",
       "82        Alaskan Malamute       $21,986    1.82\n",
       "83              Bloodhound       $13,824    1.66\n",
       "84               Chow Chow       $15,898    1.76\n",
       "85                   Akita       $20,994    1.95\n",
       "86                 Bulldog       $13,479    0.99\n",
       "\n",
       "[87 rows x 3 columns]"
      ]
     },
     "execution_count": 21,
     "metadata": {},
     "output_type": "execute_result"
    }
   ],
   "source": [
    "df[['breed', '$lifetime_cost', 'score']]"
   ]
  },
  {
   "cell_type": "markdown",
   "id": "f6f24419",
   "metadata": {
    "execution": {
     "iopub.execute_input": "2024-05-28T04:10:52.127941Z",
     "iopub.status.busy": "2024-05-28T04:10:52.127490Z",
     "iopub.status.idle": "2024-05-28T04:10:52.466490Z",
     "shell.execute_reply": "2024-05-28T04:10:52.465196Z"
    },
    "papermill": {
     "duration": 0.362508,
     "end_time": "2024-05-28T04:10:52.468936",
     "exception": false,
     "start_time": "2024-05-28T04:10:52.106428",
     "status": "completed"
    },
    "tags": []
   },
   "source": [
    "# In the end I just want to conclude that through my analysis, it'll be easy for the dog lover while choosing a particular dog breed to pet depending on the various factors and necessities."
   ]
  }
 ],
 "metadata": {
  "kaggle": {
   "accelerator": "none",
   "dataSources": [
    {
     "datasetId": 5035881,
     "sourceId": 8450385,
     "sourceType": "datasetVersion"
    }
   ],
   "dockerImageVersionId": 30698,
   "isGpuEnabled": false,
   "isInternetEnabled": true,
   "language": "python",
   "sourceType": "notebook"
  },
  "kernelspec": {
   "display_name": "Python 3 (ipykernel)",
   "language": "python",
   "name": "python3"
  },
  "language_info": {
   "codemirror_mode": {
    "name": "ipython",
    "version": 3
   },
   "file_extension": ".py",
   "mimetype": "text/x-python",
   "name": "python",
   "nbconvert_exporter": "python",
   "pygments_lexer": "ipython3",
   "version": "3.9.13"
  },
  "papermill": {
   "default_parameters": {},
   "duration": 11.699422,
   "end_time": "2024-05-28T04:10:53.390867",
   "environment_variables": {},
   "exception": null,
   "input_path": "__notebook__.ipynb",
   "output_path": "__notebook__.ipynb",
   "parameters": {},
   "start_time": "2024-05-28T04:10:41.691445",
   "version": "2.5.0"
  }
 },
 "nbformat": 4,
 "nbformat_minor": 5
}
