{
 "cells": [
  {
   "cell_type": "markdown",
   "id": "ad070db6",
   "metadata": {},
   "source": [
    "# Object Oriented Programming \n",
    "1. Class - Template\n",
    "2. Object - Object of that template\n",
    "3. Constructor - A method used to create an object of class"
   ]
  },
  {
   "cell_type": "markdown",
   "id": "da4f3d6f",
   "metadata": {},
   "source": [
    "# Creating class using init method"
   ]
  },
  {
   "cell_type": "code",
   "execution_count": 33,
   "id": "d0caf1bc",
   "metadata": {},
   "outputs": [],
   "source": [
    " class contact_book:\n",
    "    def __init__(self,contacts):\n",
    "        self.contacts = contacts\n",
    "    \n",
    "    def add_contact(self,name,phone,email):\n",
    "        self.contacts[name] = {'phone' : phone, 'email' : email}\n",
    "    \n",
    "    def view_contacts(self):\n",
    "        if self.contacts:\n",
    "            for Name,value in self.contacts.items():\n",
    "                print(Name, '-',value)\n",
    "        else:\n",
    "            print(\"Contacts are empty\")\n",
    "            \n",
    "    def search_contact(self,name):\n",
    "        if not self.contacts:\n",
    "            print(\"No contacts available.\")\n",
    "        else:\n",
    "            found = False\n",
    "            for name_, details in self.contacts.items():\n",
    "                if name_==name:\n",
    "                    found = True\n",
    "                    print(f\"Name: {name}, Phone: {details['phone']}, Email: {details['email']}\")\n",
    "                    break\n",
    "            if not found:\n",
    "                print(f\"{name} not found in your contacts\")\n",
    "\n",
    "    def update_contact(self,name, phone=None, email=None):\n",
    "        if name in self.contacts:\n",
    "            if phone:\n",
    "                self.contacts[name]['phone'] = phone\n",
    "            if email:\n",
    "                self.contacts[name]['email'] = email\n",
    "            if not phone and not email:\n",
    "                print(\"Give some details to update\")\n",
    "            else:\n",
    "                print(f\"Contact {name} updated.\")\n",
    "        else:\n",
    "            print(\"Contact not found.\")\n",
    "\n",
    "    def delete_contact(self,name):\n",
    "        if name in self.contacts:\n",
    "            del self.contacts[name]\n",
    "            print(f\"Contact {name} deleted.\")\n",
    "        else:\n",
    "            print(\"Contact not found.\")\n",
    "\n",
    "    "
   ]
  },
  {
   "cell_type": "code",
   "execution_count": 41,
   "id": "ad47fec4",
   "metadata": {},
   "outputs": [
    {
     "data": {
      "text/plain": [
       "{}"
      ]
     },
     "execution_count": 41,
     "metadata": {},
     "output_type": "execute_result"
    }
   ],
   "source": [
    "contacts = {}\n",
    "\n",
    "obj = contact_book({})\n",
    "obj.contacts"
   ]
  },
  {
   "cell_type": "code",
   "execution_count": 42,
   "id": "8638e48a",
   "metadata": {},
   "outputs": [],
   "source": [
    " obj.add_contact(name = \"Nikhil\", phone = \"1234567890\",email = \"abc.com\")"
   ]
  },
  {
   "cell_type": "code",
   "execution_count": 43,
   "id": "c1eaeb6c",
   "metadata": {},
   "outputs": [
    {
     "name": "stdout",
     "output_type": "stream",
     "text": [
      "Nikhil - {'phone': '1234567890', 'email': 'abc.com'}\n"
     ]
    }
   ],
   "source": [
    " obj.view_contacts()"
   ]
  },
  {
   "cell_type": "code",
   "execution_count": 44,
   "id": "cdbea02e",
   "metadata": {},
   "outputs": [
    {
     "name": "stdout",
     "output_type": "stream",
     "text": [
      "Name: Nikhil, Phone: 1234567890, Email: abc.com\n"
     ]
    }
   ],
   "source": [
    "obj.search_contact(\"Nikhil\") "
   ]
  },
  {
   "cell_type": "code",
   "execution_count": 45,
   "id": "fe672f15",
   "metadata": {},
   "outputs": [],
   "source": [
    " import contact_book as cb"
   ]
  },
  {
   "cell_type": "code",
   "execution_count": 46,
   "id": "2f9b8e06",
   "metadata": {},
   "outputs": [
    {
     "data": {
      "text/plain": [
       "<function contact_book.add_contact(contacts, name, phone, email)>"
      ]
     },
     "execution_count": 46,
     "metadata": {},
     "output_type": "execute_result"
    }
   ],
   "source": [
    "cb.add_contact"
   ]
  },
  {
   "cell_type": "code",
   "execution_count": null,
   "id": "9b2d3751",
   "metadata": {},
   "outputs": [],
   "source": []
  }
 ],
 "metadata": {
  "kernelspec": {
   "display_name": "Python 3 (ipykernel)",
   "language": "python",
   "name": "python3"
  },
  "language_info": {
   "codemirror_mode": {
    "name": "ipython",
    "version": 3
   },
   "file_extension": ".py",
   "mimetype": "text/x-python",
   "name": "python",
   "nbconvert_exporter": "python",
   "pygments_lexer": "ipython3",
   "version": "3.9.13"
  }
 },
 "nbformat": 4,
 "nbformat_minor": 5
}
