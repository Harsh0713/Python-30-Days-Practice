{
 "cells": [
  {
   "cell_type": "markdown",
   "id": "93f7ec11",
   "metadata": {},
   "source": [
    "# Array Operations\n",
    "1. Contagious Memory\n",
    "2. Collective DataType\n",
    "3. Array has same type of DataType"
   ]
  },
  {
   "cell_type": "markdown",
   "id": "d5052a78",
   "metadata": {},
   "source": [
    "# Swapping"
   ]
  },
  {
   "cell_type": "code",
   "execution_count": 6,
   "id": "6d4ec473",
   "metadata": {},
   "outputs": [
    {
     "name": "stdout",
     "output_type": "stream",
     "text": [
      "(5, 3)\n",
      "3 5\n"
     ]
    }
   ],
   "source": [
    "\n",
    "def swap(a,b):\n",
    "    c = a\n",
    "    a = b\n",
    "    b = c\n",
    "    return a,b\n",
    "a, b = 3,5\n",
    "print(swap(a,b))\n",
    "print(a,b) \n",
    "\n"
   ]
  },
  {
   "cell_type": "markdown",
   "id": "2fffff54",
   "metadata": {},
   "source": [
    "# Sorting - Insertion Sort"
   ]
  },
  {
   "cell_type": "code",
   "execution_count": 7,
   "id": "1002b267",
   "metadata": {},
   "outputs": [],
   "source": [
    "num_array = [5,6,7,2,1,4,3]\n",
    "\n",
    "def insertion_sort(arr):\n",
    "    for i in range(len(num_array)):\n",
    "        for j in range(i+1,len(num_array)):\n",
    "            if num_array[i]>num_array[j]:\n",
    "                temp = num_array[j]\n",
    "                num_array[j] = num_array[i]\n",
    "                num_array[i] = temp\n",
    "    return arr"
   ]
  },
  {
   "cell_type": "code",
   "execution_count": 8,
   "id": "bd41213e",
   "metadata": {},
   "outputs": [],
   "source": [
    "num_array = insertion_sort(num_array)"
   ]
  },
  {
   "cell_type": "code",
   "execution_count": 9,
   "id": "bd80a481",
   "metadata": {},
   "outputs": [
    {
     "data": {
      "text/plain": [
       "[1, 2, 3, 4, 5, 6, 7]"
      ]
     },
     "execution_count": 9,
     "metadata": {},
     "output_type": "execute_result"
    }
   ],
   "source": [
    "num_array"
   ]
  },
  {
   "cell_type": "markdown",
   "id": "3f6c70f9",
   "metadata": {},
   "source": [
    "# Sorting - Merge Sort"
   ]
  },
  {
   "cell_type": "code",
   "execution_count": 21,
   "id": "dba15f8f",
   "metadata": {},
   "outputs": [
    {
     "name": "stdout",
     "output_type": "stream",
     "text": [
      "Sorted array: [3, 9, 10, 27, 38, 43, 82]\n"
     ]
    }
   ],
   "source": [
    "def merge_sort(arr):\n",
    "    if len(arr) > 1:\n",
    "        mid = len(arr) // 2  # Finding the mid of the array\n",
    "        left_half = arr[:mid]  # Dividing the elements into 2 halves\n",
    "        right_half = arr[mid:]\n",
    "\n",
    "        merge_sort(left_half)  # Sorting the first half\n",
    "        merge_sort(right_half)  # Sorting the second half\n",
    "\n",
    "        i = j = k = 0\n",
    "\n",
    "        # Copy data to temp arrays left_half[] and right_half[]\n",
    "        while i < len(left_half) and j < len(right_half):\n",
    "            if left_half[i] < right_half[j]:\n",
    "                arr[k] = left_half[i]\n",
    "                i += 1\n",
    "            else:\n",
    "                arr[k] = right_half[j]\n",
    "                j += 1\n",
    "            k += 1\n",
    "\n",
    "        # Checking if any element was left in left_half\n",
    "        while i < len(left_half):\n",
    "            arr[k] = left_half[i]\n",
    "            i += 1\n",
    "            k += 1\n",
    "\n",
    "        # Checking if any element was left in right_half\n",
    "        while j < len(right_half):\n",
    "            arr[k] = right_half[j]\n",
    "            j += 1\n",
    "            k += 1\n",
    "\n",
    "# Example usage:\n",
    "arr = [38, 27, 43, 3, 9, 82, 10]\n",
    "merge_sort(arr)\n",
    "print(\"Sorted array:\", arr)\n"
   ]
  },
  {
   "cell_type": "code",
   "execution_count": 22,
   "id": "de714dcc",
   "metadata": {},
   "outputs": [],
   "source": [
    "arr = [5,4,3,7,2,9,5]\n",
    "\n",
    "merge_sort(arr)"
   ]
  },
  {
   "cell_type": "markdown",
   "id": "bbc49187",
   "metadata": {},
   "source": [
    "   # 2D Array\n",
    "   1. List of array inside an array"
   ]
  },
  {
   "cell_type": "code",
   "execution_count": 31,
   "id": "1e509753",
   "metadata": {},
   "outputs": [
    {
     "name": "stdout",
     "output_type": "stream",
     "text": [
      "12\n",
      "24\n",
      "6\n",
      "5\n",
      "3\n",
      "2\n",
      "9\n",
      "8\n"
     ]
    }
   ],
   "source": [
    "array_2d = [\n",
    "    [12, 24, 5, 6, 7],\n",
    "    [6, 5],\n",
    "    [3, 2],\n",
    "    [9, 8]\n",
    "]\n",
    "\n",
    "for i in range(len(array_2d)):\n",
    "    for j in range(len(array_2d[i])):\n",
    "        print(array_2d[i][j])"
   ]
  },
  {
   "cell_type": "markdown",
   "id": "28079d8e",
   "metadata": {},
   "source": [
    "# Easy Loop"
   ]
  },
  {
   "cell_type": "code",
   "execution_count": 33,
   "id": "91dd7984",
   "metadata": {},
   "outputs": [
    {
     "name": "stdout",
     "output_type": "stream",
     "text": [
      "Hello, this is Harsh\n",
      "Hello, this is Harsh\n",
      "Hello, this is Harsh\n",
      "Hello, this is Harsh\n",
      "Hello, this is Harsh\n",
      "Hello, this is Harsh\n",
      "Hello, this is Harsh\n",
      "Hello, this is Harsh\n",
      "Hello, this is Harsh\n",
      "Hello, this is Harsh\n"
     ]
    }
   ],
   "source": [
    "for i in range(10):\n",
    "    print(\"Hello, this is Harsh\")"
   ]
  },
  {
   "cell_type": "code",
   "execution_count": null,
   "id": "e78bc149",
   "metadata": {},
   "outputs": [],
   "source": []
  }
 ],
 "metadata": {
  "kernelspec": {
   "display_name": "Python 3 (ipykernel)",
   "language": "python",
   "name": "python3"
  },
  "language_info": {
   "codemirror_mode": {
    "name": "ipython",
    "version": 3
   },
   "file_extension": ".py",
   "mimetype": "text/x-python",
   "name": "python",
   "nbconvert_exporter": "python",
   "pygments_lexer": "ipython3",
   "version": "3.9.13"
  }
 },
 "nbformat": 4,
 "nbformat_minor": 5
}
