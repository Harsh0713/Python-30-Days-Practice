{
 "cells": [
  {
   "cell_type": "markdown",
   "id": "3674a9d1",
   "metadata": {},
   "source": [
    "# Contact Book\n",
    "1. Add contact\n",
    "\n",
    "    a. name\n",
    "    \n",
    "    b. phone number\n",
    "    \n",
    "    c. email"
   ]
  },
  {
   "cell_type": "code",
   "execution_count": 16,
   "id": "a598b498",
   "metadata": {},
   "outputs": [],
   "source": [
    "import contact_book as cb\n",
    " "
   ]
  },
  {
   "cell_type": "code",
   "execution_count": 17,
   "id": "78e974b2",
   "metadata": {},
   "outputs": [
    {
     "name": "stdout",
     "output_type": "stream",
     "text": [
      "Contact Harsh added.\n"
     ]
    }
   ],
   "source": [
    "contacts = {}\n",
    "\n",
    "cb.add_contact(contacts, \"Harsh\", \"823745823\", \"harsh@example.com\")"
   ]
  },
  {
   "cell_type": "code",
   "execution_count": 18,
   "id": "b6130f49",
   "metadata": {},
   "outputs": [
    {
     "name": "stdout",
     "output_type": "stream",
     "text": [
      "Name Harsh, Phone: 823745823, Email: harsh@example.com\n"
     ]
    }
   ],
   "source": [
    "cb.view_contact(contacts)"
   ]
  },
  {
   "cell_type": "code",
   "execution_count": 19,
   "id": "f11a31a1",
   "metadata": {},
   "outputs": [
    {
     "name": "stdout",
     "output_type": "stream",
     "text": [
      "Contact Sarvesh added.\n",
      "Contact Sahil added.\n",
      "Contact Aryan added.\n",
      "Contact Om added.\n"
     ]
    }
   ],
   "source": [
    "cb.add_contact(contacts, \"Sarvesh\", \"7945337694\", \"sarvesh@gmail.com\")\n",
    "cb.add_contact(contacts, \"Sahil\", \"3948753493\", \"sahil@gmail.com\")\n",
    "cb.add_contact(contacts, \"Aryan\", \"98235434943\", \"aryan@gmail.com\")\n",
    "cb.add_contact(contacts, \"Om\", \"439573898\", \"om@gmail.com\")"
   ]
  },
  {
   "cell_type": "code",
   "execution_count": 20,
   "id": "5f093d57",
   "metadata": {},
   "outputs": [
    {
     "name": "stdout",
     "output_type": "stream",
     "text": [
      "Name Harsh, Phone: 823745823, Email: harsh@example.com\n",
      "Name Sarvesh, Phone: 7945337694, Email: sarvesh@gmail.com\n",
      "Name Sahil, Phone: 3948753493, Email: sahil@gmail.com\n",
      "Name Aryan, Phone: 98235434943, Email: aryan@gmail.com\n",
      "Name Om, Phone: 439573898, Email: om@gmail.com\n"
     ]
    }
   ],
   "source": [
    "cb.view_contact(contacts)"
   ]
  },
  {
   "cell_type": "code",
   "execution_count": 22,
   "id": "337e39a3",
   "metadata": {},
   "outputs": [
    {
     "ename": "TypeError",
     "evalue": "'bool' object is not callable",
     "output_type": "error",
     "traceback": [
      "\u001b[1;31m---------------------------------------------------------------------------\u001b[0m",
      "\u001b[1;31mTypeError\u001b[0m                                 Traceback (most recent call last)",
      "\u001b[1;32m~\\AppData\\Local\\Temp\\ipykernel_29356\\1649155442.py\u001b[0m in \u001b[0;36m<module>\u001b[1;34m\u001b[0m\n\u001b[1;32m----> 1\u001b[1;33m \u001b[0mcb\u001b[0m\u001b[1;33m.\u001b[0m\u001b[0msearch_contact\u001b[0m\u001b[1;33m(\u001b[0m\u001b[0mcontacts\u001b[0m\u001b[1;33m,\u001b[0m \u001b[1;34m\"Om\"\u001b[0m\u001b[1;33m)\u001b[0m\u001b[1;33m\u001b[0m\u001b[1;33m\u001b[0m\u001b[0m\n\u001b[0m",
      "\u001b[1;32m~\\contact_book.py\u001b[0m in \u001b[0;36msearch_contact\u001b[1;34m(contacts, name)\u001b[0m\n\u001b[0;32m     25\u001b[0m                 \u001b[0mprint\u001b[0m\u001b[1;33m(\u001b[0m\u001b[1;34mf\"Name {name}, Phone: {details['phone']}, Email: {details['email']}\"\u001b[0m\u001b[1;33m)\u001b[0m\u001b[1;33m\u001b[0m\u001b[1;33m\u001b[0m\u001b[0m\n\u001b[0;32m     26\u001b[0m                 \u001b[1;32mbreak\u001b[0m\u001b[1;33m\u001b[0m\u001b[1;33m\u001b[0m\u001b[0m\n\u001b[1;32m---> 27\u001b[1;33m         \u001b[1;32mif\u001b[0m \u001b[1;32mnot\u001b[0m \u001b[0mfound\u001b[0m\u001b[1;33m:\u001b[0m\u001b[1;33m\u001b[0m\u001b[1;33m\u001b[0m\u001b[0m\n\u001b[0m\u001b[0;32m     28\u001b[0m             \u001b[0mprint\u001b[0m\u001b[1;33m(\u001b[0m\u001b[1;34mf\"{name} not found in your contacts\"\u001b[0m\u001b[1;33m)\u001b[0m\u001b[1;33m\u001b[0m\u001b[1;33m\u001b[0m\u001b[0m\n\u001b[0;32m     29\u001b[0m \u001b[1;33m\u001b[0m\u001b[0m\n",
      "\u001b[1;31mTypeError\u001b[0m: 'bool' object is not callable"
     ]
    }
   ],
   "source": [
    "cb.search_contact(contacts, \"Om\")"
   ]
  },
  {
   "cell_type": "code",
   "execution_count": 25,
   "id": "fc29ed13",
   "metadata": {},
   "outputs": [
    {
     "name": "stdout",
     "output_type": "stream",
     "text": [
      "Contact Omdeleted.\n"
     ]
    }
   ],
   "source": [
    "cb.delete_contact(contacts, \"Om\")"
   ]
  },
  {
   "cell_type": "code",
   "execution_count": 28,
   "id": "a72c47fc",
   "metadata": {},
   "outputs": [
    {
     "name": "stdout",
     "output_type": "stream",
     "text": [
      "Contact Aryan added.\n"
     ]
    }
   ],
   "source": [
    "cb.add_contact(contacts, \"Aryan\", \"38475638534\", \"aryan@gmail.com\")"
   ]
  },
  {
   "cell_type": "code",
   "execution_count": 29,
   "id": "d986d157",
   "metadata": {},
   "outputs": [
    {
     "name": "stdout",
     "output_type": "stream",
     "text": [
      "Name Harsh, Phone: 823745823, Email: harsh@example.com\n",
      "Name Sarvesh, Phone: 7945337694, Email: sarvesh@gmail.com\n",
      "Name Sahil, Phone: 3948753493, Email: sahil@gmail.com\n",
      "Name Aryan, Phone: 38475638534, Email: aryan@gmail.com\n"
     ]
    }
   ],
   "source": [
    "cb.view_contact(contacts)"
   ]
  },
  {
   "cell_type": "code",
   "execution_count": 31,
   "id": "58ab000b",
   "metadata": {},
   "outputs": [
    {
     "name": "stdout",
     "output_type": "stream",
     "text": [
      "Contact Sahil updated.\n"
     ]
    }
   ],
   "source": [
    "cb.update_contact(contacts, \"Sahil\", phone = \"4546456466\")"
   ]
  },
  {
   "cell_type": "code",
   "execution_count": 32,
   "id": "391a5504",
   "metadata": {},
   "outputs": [
    {
     "name": "stdout",
     "output_type": "stream",
     "text": [
      "Name Harsh, Phone: 823745823, Email: harsh@example.com\n",
      "Name Sarvesh, Phone: 7945337694, Email: sarvesh@gmail.com\n",
      "Name Sahil, Phone: 4546456466, Email: sahil@gmail.com\n",
      "Name Aryan, Phone: 38475638534, Email: aryan@gmail.com\n"
     ]
    }
   ],
   "source": [
    "cb.view_contact(contacts)"
   ]
  },
  {
   "cell_type": "code",
   "execution_count": null,
   "id": "3aaa2d20",
   "metadata": {},
   "outputs": [],
   "source": []
  },
  {
   "cell_type": "code",
   "execution_count": null,
   "id": "2b94ccc4",
   "metadata": {},
   "outputs": [],
   "source": []
  }
 ],
 "metadata": {
  "kernelspec": {
   "display_name": "Python 3 (ipykernel)",
   "language": "python",
   "name": "python3"
  },
  "language_info": {
   "codemirror_mode": {
    "name": "ipython",
    "version": 3
   },
   "file_extension": ".py",
   "mimetype": "text/x-python",
   "name": "python",
   "nbconvert_exporter": "python",
   "pygments_lexer": "ipython3",
   "version": "3.9.13"
  }
 },
 "nbformat": 4,
 "nbformat_minor": 5
}
