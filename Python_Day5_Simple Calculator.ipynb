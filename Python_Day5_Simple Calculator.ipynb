{
 "cells": [
  {
   "cell_type": "markdown",
   "id": "b229cb73",
   "metadata": {},
   "source": [
    "# Calculator\n",
    "\n",
    "1. Addition\n",
    "\n",
    "2. Subtraction\n",
    "\n",
    "3. Multiplication\n",
    "\n",
    "4. Integer Division\n",
    "\n",
    "5. Float Division\n",
    "\n",
    "6. Mod\n",
    "\n",
    "7. Percentage\n",
    "\n",
    "8. Factorial"
   ]
  },
  {
   "cell_type": "code",
   "execution_count": 28,
   "id": "5a6336ff",
   "metadata": {},
   "outputs": [],
   "source": [
    "def add(num1, num2):\n",
    "    return num1 + num2\n",
    "\n",
    "def subtraction(num1, num2):\n",
    "    return abs(num1-num2)\n",
    "\n",
    "def multiplication(num1, num2):\n",
    "    return num1*num2\n",
    "\n",
    "def integer_division(num1, num2):\n",
    "    return num1//num2\n",
    "\n",
    "def float_division(num1, num2):\n",
    "    return num1/num2\n",
    "\n",
    "def mod(num1, num2):\n",
    "    return num1%num2\n",
    "\n",
    "def percentage(num1, num2):\n",
    "    return (num1/num2) * 100\n",
    "\n",
    "def power(num1, num2):\n",
    "    return num1**num2\n",
    "\n",
    "def factorial(num1):\n",
    "    if num1==0:\n",
    "        return 1\n",
    "    return num1 * factorial(num-1)\n",
    "\n",
    "def calculator():\n",
    "    user_input = int(input(\"Please Enter the number associated with your operation -\\n\" \n",
    "                     \"1. Addition -\\n\" \n",
    "                     \"2. Subtraction -\\n\"  \n",
    "                     \"3. Multiplication -\\n\" \n",
    "                     \"4. Integer Division -\\n\" \n",
    "                     \"5. Float Division -\\n\" \n",
    "                     \"6. Modulus -\\n\" \n",
    "                     \"7. Percentage -\\n\" \n",
    "                     \"8. Power -\\n\" \n",
    "                     \"9. Factorial -\\n\"\n",
    "                          \" \"))\n",
    "    \n",
    "    if user_input == 1:\n",
    "        num1, num2 = input(\"Enter 2 numbers \").split()\n",
    "        num1, num2 = int(num1),int(num2)\n",
    "        print(\"Solution is\", add(num1, num2))\n",
    "    elif user_input == 2:\n",
    "        num1, num2 = input(\"Enter 2 numbers \").split()\n",
    "        num1, num2 = int(num1),int(num2)\n",
    "        print(\"Solution is\",subtraction(num1, num2))\n",
    "    elif user_input == 3:\n",
    "        num1, num2 = input(\"Enter 2 numbers \").split()\n",
    "        num1, num2 = int(num1),int(num2)\n",
    "        print(\"Solution is\",multiplication(num1, num2))\n",
    "    elif user_input == 4:\n",
    "        num1, num2 = input(\"Enter 2 numbers - dividend and divisior respectively \").split()\n",
    "        \n",
    "        num1, num2 = int(num1),int(num2)\n",
    "        if num2 ==0:\n",
    "            print(\"Error! Division by zero is not possible. Enter valid input\")\n",
    "            calculator()\n",
    "        print(\"Solution is\",integer_division(num1, num2))\n",
    "    elif user_input == 5:\n",
    "        num1, num2 = input(\"Enter 2 numbers - dividend and divisor respectively \").split()\n",
    "        num1, num2 = int(num1),int(num2)\n",
    "        if num2 ==0:\n",
    "            print(\"Error! Division by zero is not possible. Enter valid input\")\n",
    "            calculator()\n",
    "        print(\"Solution is\",float_division(num1, num2))\n",
    "    elif user_input == 6:\n",
    "        num1, num2 = input(\"Enter 2 numbers - dividend and divisor respectively \").split()\n",
    "        if num2 ==0:\n",
    "            print(\"Error! Division by zero is not possible. Enter valid input\")\n",
    "            calculator()\n",
    "        num1, num2 = int(num1),int(num2)\n",
    "        print(\"Solution is\",mod(num1, num2))  \n",
    "    elif user_input == 7:\n",
    "        num1, num2 = input(\"Enter number whose percentage you want to get followed by the bigger number \").split()\n",
    "        num1, num2 = int(num1),int(num2)\n",
    "        if num2 ==0:\n",
    "            print(\"Error! Division by zero is not possible. Enter valid input\")\n",
    "            calculator()\n",
    "        print(\"Solution is\",percentage(num1, num2))\n",
    "    elif user_input == 8:\n",
    "        num1, num2 = input(\"Enter 2 numbers - Base and power respectively \").split()\n",
    "        num1, num2 = int(num1),int(num2)\n",
    "        print(\"Solution is\",power(num1, num2))\n",
    "    elif user_input == 9:\n",
    "        num1 = int(input(\"Enter number \"))\n",
    "        print(\"Solution is\",factorial(num1))\n",
    "    else:\n",
    "        print(\"Please Enter a value \")\n",
    "        \n",
    "        calculator()\n",
    "        "
   ]
  },
  {
   "cell_type": "markdown",
   "id": "2bc140af",
   "metadata": {},
   "source": [
    "calculator()"
   ]
  },
  {
   "cell_type": "markdown",
   "id": "1f6237e4",
   "metadata": {},
   "source": [
    "# Library use in Python (math) "
   ]
  },
  {
   "cell_type": "code",
   "execution_count": 30,
   "id": "42cac4da",
   "metadata": {},
   "outputs": [],
   "source": [
    "import math "
   ]
  },
  {
   "cell_type": "code",
   "execution_count": 33,
   "id": "b5ed881d",
   "metadata": {},
   "outputs": [
    {
     "data": {
      "text/plain": [
       "-0.9524129804151563"
      ]
     },
     "execution_count": 33,
     "metadata": {},
     "output_type": "execute_result"
    }
   ],
   "source": [
    "math.cos(60)"
   ]
  },
  {
   "cell_type": "code",
   "execution_count": 34,
   "id": "518bfae8",
   "metadata": {},
   "outputs": [
    {
     "data": {
      "text/plain": [
       "5.0"
      ]
     },
     "execution_count": 34,
     "metadata": {},
     "output_type": "execute_result"
    }
   ],
   "source": [
    "math.sqrt(25)"
   ]
  },
  {
   "cell_type": "code",
   "execution_count": 35,
   "id": "d00789f8",
   "metadata": {},
   "outputs": [
    {
     "data": {
      "text/plain": [
       "-0.3048106211022167"
      ]
     },
     "execution_count": 35,
     "metadata": {},
     "output_type": "execute_result"
    }
   ],
   "source": [
    "math.sin(60)"
   ]
  },
  {
   "cell_type": "code",
   "execution_count": null,
   "id": "137cd4ec",
   "metadata": {},
   "outputs": [],
   "source": [
    "# type math. ( press tab) you'll find all the operations performed in math"
   ]
  }
 ],
 "metadata": {
  "kernelspec": {
   "display_name": "Python 3 (ipykernel)",
   "language": "python",
   "name": "python3"
  },
  "language_info": {
   "codemirror_mode": {
    "name": "ipython",
    "version": 3
   },
   "file_extension": ".py",
   "mimetype": "text/x-python",
   "name": "python",
   "nbconvert_exporter": "python",
   "pygments_lexer": "ipython3",
   "version": "3.9.13"
  }
 },
 "nbformat": 4,
 "nbformat_minor": 5
}
